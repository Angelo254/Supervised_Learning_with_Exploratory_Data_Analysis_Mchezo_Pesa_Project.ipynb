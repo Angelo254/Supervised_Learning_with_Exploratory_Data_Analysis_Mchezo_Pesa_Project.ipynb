{
  "nbformat": 4,
  "nbformat_minor": 0,
  "metadata": {
    "colab": {
      "name": "Moringa_Data_Science_Core_W6_Independent_Project_2021_10_Angelo_Sang_Python",
      "provenance": [],
      "collapsed_sections": [
        "a9BPYqunry97",
        "7KMRBJ7zr9HD",
        "zSGyg6kWsBUl",
        "HPQviDmNtta8",
        "HSsicSdvt4Zs"
      ],
      "toc_visible": true,
      "include_colab_link": true
    },
    "kernelspec": {
      "name": "python3",
      "display_name": "Python 3"
    }
  },
  "cells": [
    {
      "cell_type": "markdown",
      "metadata": {
        "id": "view-in-github",
        "colab_type": "text"
      },
      "source": [
        "<a href=\"https://colab.research.google.com/github/Angelo254/Supervised_Learning_with_Exploratory_Data_Analysis_Mchezo_Pesa_Project.ipynb/blob/master/Moringa_Data_Science_Core_W6_Independent_Project_2021_10_Angelo_Sang_Python.ipynb\" target=\"_parent\"><img src=\"https://colab.research.google.com/assets/colab-badge.svg\" alt=\"Open In Colab\"/></a>"
      ]
    },
    {
      "cell_type": "markdown",
      "metadata": {
        "id": "xMxtPsqcTsSH"
      },
      "source": [
        "# Supervised Learning with Exploratory Data Analysis:\n",
        "# Mchezo Pesa Project"
      ]
    },
    {
      "cell_type": "markdown",
      "metadata": {
        "id": "kLG2VTrnTvYL"
      },
      "source": [
        "## 1. Defining the Question\n",
        "\n",
        "You have been recruited as a football analyst in a company - Mchezopesa Ltd and tasked to accomplish the task below.\n",
        "\n",
        "A prediction result of a game between team 1 and team 2, based on who's home and who's away, and on whether or not the game is friendly (include rank in your training)."
      ]
    },
    {
      "cell_type": "markdown",
      "metadata": {
        "id": "XecOwPNorl2W"
      },
      "source": [
        "### a) Specifying the Question\n"
      ]
    },
    {
      "cell_type": "markdown",
      "metadata": {
        "id": "8l3-hBO6bODP"
      },
      "source": [
        "Mchezo pesa is a football analyst company in East Africa. Mchezo-Pesa would like to predict the result of a game based whether the teams playing are in their home country or not and whether the game is friendly or not.\n",
        "\n"
      ]
    },
    {
      "cell_type": "markdown",
      "metadata": {
        "id": "J4wfHZwQrs-t"
      },
      "source": [
        "### b) Defining the Metric for Success\n",
        "This project will be successful when:\n",
        "\n",
        "1) We accurately predict the winning team based on the two factors:\n",
        "\n",
        "       a)Home team or away team\n",
        "      \n",
        "       b)The type of tournament \n",
        "\n",
        "2) The model achieves atleast 80% accuracy\n",
        "\n",
        "3) Have the lowest RMSE score possible\n"
      ]
    },
    {
      "cell_type": "markdown",
      "metadata": {
        "id": "a9BPYqunry97"
      },
      "source": [
        "### c) Understanding the context \n",
        "The Coca-Cola ranking system was designed by FIFA and named 'SUM'.\n",
        "This ranking method utilises a metric that adds or subtracts points to the previous score instead of finding the average score.\n",
        "The lowest score which may be negative indicates the worst team while the highest score indicated the best team."
      ]
    },
    {
      "cell_type": "markdown",
      "metadata": {
        "id": "7KMRBJ7zr9HD"
      },
      "source": [
        "### d) Experimental Design\n",
        "The project was undertaken using the following design\n",
        "Datasets(Fifa-ranking.csv + results.csv)\n",
        "\n",
        "* Merging datasets\n",
        "\n",
        "* Performing EDA\n",
        "\n",
        "* Feature Engineering\n",
        "\n",
        "* Polynomial Regression\n",
        "\n",
        "* Logistic regression\n",
        "\n",
        "* Computing the RMSE\n",
        "\n",
        "* Plotting residual plots\n",
        "\n",
        "* Assessing their heteroscedasticity using Barlette's test\n",
        "\n",
        "* Challenging the solution\n",
        "\n",
        "* Conclusion"
      ]
    },
    {
      "cell_type": "markdown",
      "metadata": {
        "id": "zSGyg6kWsBUl"
      },
      "source": [
        "### e) Data Relevance\n",
        "The relavance of our data will be answered by the following questions.\n",
        "\n",
        "* How accurate is the data at predicting the outcome of the games?\n",
        "\n",
        "* Was the dataset sufficient?\n",
        "\n",
        "* Was the data biased?\n",
        "\n",
        "* Is the data source a reliable source?"
      ]
    },
    {
      "cell_type": "markdown",
      "metadata": {
        "id": "iUNbvIvnT7ep"
      },
      "source": [
        "## 2. Reading the Data"
      ]
    },
    {
      "cell_type": "code",
      "metadata": {
        "id": "Ks4YDoIpqFTb"
      },
      "source": [
        "#loading the libraries\n",
        "import pandas as pd\n",
        "import numpy as np\n",
        "import seaborn as sns\n",
        "from sklearn.preprocessing import LabelEncoder\n",
        "import matplotlib.pyplot as plt\n",
        "from sklearn.preprocessing import PolynomialFeatures\n",
        "from sklearn.model_selection import train_test_split\n",
        "from sklearn.linear_model import LinearRegression\n",
        "from sklearn.decomposition import PCA\n",
        "from sklearn.model_selection import train_test_split,GridSearchCV,RandomizedSearchCV,KFold,StratifiedKFold,cross_val_score\n",
        "from sklearn.linear_model import LogisticRegression\n",
        "from sklearn.ensemble import RandomForestClassifier\n",
        "from sklearn.naive_bayes import GaussianNB\n",
        "from sklearn.svm import SVC\n",
        "from sklearn.metrics import mean_squared_error,r2_score,accuracy_score,f1_score,classification_report\n",
        "from sklearn.metrics import confusion_matrix\n",
        "from sklearn import metrics\n",
        "import warnings\n",
        "warnings.filterwarnings('ignore')\n",
        "%matplotlib inline"
      ],
      "execution_count": 90,
      "outputs": []
    },
    {
      "cell_type": "code",
      "metadata": {
        "id": "bw1TpUB5rLob",
        "colab": {
          "base_uri": "https://localhost:8080/",
          "height": 308
        },
        "outputId": "5a380ed0-f26c-4481-91e7-09fb5974d523"
      },
      "source": [
        "#loading the FiFa ranking dataset while specifying the datetime column\n",
        "\n",
        "ranking = pd.read_csv('/content/fifa_ranking.csv', parse_dates=['rank_date'])\n",
        "ranking.head(5)"
      ],
      "execution_count": 91,
      "outputs": [
        {
          "output_type": "execute_result",
          "data": {
            "text/html": [
              "<div>\n",
              "<style scoped>\n",
              "    .dataframe tbody tr th:only-of-type {\n",
              "        vertical-align: middle;\n",
              "    }\n",
              "\n",
              "    .dataframe tbody tr th {\n",
              "        vertical-align: top;\n",
              "    }\n",
              "\n",
              "    .dataframe thead th {\n",
              "        text-align: right;\n",
              "    }\n",
              "</style>\n",
              "<table border=\"1\" class=\"dataframe\">\n",
              "  <thead>\n",
              "    <tr style=\"text-align: right;\">\n",
              "      <th></th>\n",
              "      <th>rank</th>\n",
              "      <th>country_full</th>\n",
              "      <th>country_abrv</th>\n",
              "      <th>total_points</th>\n",
              "      <th>previous_points</th>\n",
              "      <th>rank_change</th>\n",
              "      <th>cur_year_avg</th>\n",
              "      <th>cur_year_avg_weighted</th>\n",
              "      <th>last_year_avg</th>\n",
              "      <th>last_year_avg_weighted</th>\n",
              "      <th>two_year_ago_avg</th>\n",
              "      <th>two_year_ago_weighted</th>\n",
              "      <th>three_year_ago_avg</th>\n",
              "      <th>three_year_ago_weighted</th>\n",
              "      <th>confederation</th>\n",
              "      <th>rank_date</th>\n",
              "    </tr>\n",
              "  </thead>\n",
              "  <tbody>\n",
              "    <tr>\n",
              "      <th>0</th>\n",
              "      <td>1</td>\n",
              "      <td>Germany</td>\n",
              "      <td>GER</td>\n",
              "      <td>0.0</td>\n",
              "      <td>57</td>\n",
              "      <td>0</td>\n",
              "      <td>0.0</td>\n",
              "      <td>0.0</td>\n",
              "      <td>0.0</td>\n",
              "      <td>0.0</td>\n",
              "      <td>0.0</td>\n",
              "      <td>0.0</td>\n",
              "      <td>0.0</td>\n",
              "      <td>0.0</td>\n",
              "      <td>UEFA</td>\n",
              "      <td>1993-08-08</td>\n",
              "    </tr>\n",
              "    <tr>\n",
              "      <th>1</th>\n",
              "      <td>2</td>\n",
              "      <td>Italy</td>\n",
              "      <td>ITA</td>\n",
              "      <td>0.0</td>\n",
              "      <td>57</td>\n",
              "      <td>0</td>\n",
              "      <td>0.0</td>\n",
              "      <td>0.0</td>\n",
              "      <td>0.0</td>\n",
              "      <td>0.0</td>\n",
              "      <td>0.0</td>\n",
              "      <td>0.0</td>\n",
              "      <td>0.0</td>\n",
              "      <td>0.0</td>\n",
              "      <td>UEFA</td>\n",
              "      <td>1993-08-08</td>\n",
              "    </tr>\n",
              "    <tr>\n",
              "      <th>2</th>\n",
              "      <td>3</td>\n",
              "      <td>Switzerland</td>\n",
              "      <td>SUI</td>\n",
              "      <td>0.0</td>\n",
              "      <td>50</td>\n",
              "      <td>9</td>\n",
              "      <td>0.0</td>\n",
              "      <td>0.0</td>\n",
              "      <td>0.0</td>\n",
              "      <td>0.0</td>\n",
              "      <td>0.0</td>\n",
              "      <td>0.0</td>\n",
              "      <td>0.0</td>\n",
              "      <td>0.0</td>\n",
              "      <td>UEFA</td>\n",
              "      <td>1993-08-08</td>\n",
              "    </tr>\n",
              "    <tr>\n",
              "      <th>3</th>\n",
              "      <td>4</td>\n",
              "      <td>Sweden</td>\n",
              "      <td>SWE</td>\n",
              "      <td>0.0</td>\n",
              "      <td>55</td>\n",
              "      <td>0</td>\n",
              "      <td>0.0</td>\n",
              "      <td>0.0</td>\n",
              "      <td>0.0</td>\n",
              "      <td>0.0</td>\n",
              "      <td>0.0</td>\n",
              "      <td>0.0</td>\n",
              "      <td>0.0</td>\n",
              "      <td>0.0</td>\n",
              "      <td>UEFA</td>\n",
              "      <td>1993-08-08</td>\n",
              "    </tr>\n",
              "    <tr>\n",
              "      <th>4</th>\n",
              "      <td>5</td>\n",
              "      <td>Argentina</td>\n",
              "      <td>ARG</td>\n",
              "      <td>0.0</td>\n",
              "      <td>51</td>\n",
              "      <td>5</td>\n",
              "      <td>0.0</td>\n",
              "      <td>0.0</td>\n",
              "      <td>0.0</td>\n",
              "      <td>0.0</td>\n",
              "      <td>0.0</td>\n",
              "      <td>0.0</td>\n",
              "      <td>0.0</td>\n",
              "      <td>0.0</td>\n",
              "      <td>CONMEBOL</td>\n",
              "      <td>1993-08-08</td>\n",
              "    </tr>\n",
              "  </tbody>\n",
              "</table>\n",
              "</div>"
            ],
            "text/plain": [
              "   rank country_full  ... confederation  rank_date\n",
              "0     1      Germany  ...          UEFA 1993-08-08\n",
              "1     2        Italy  ...          UEFA 1993-08-08\n",
              "2     3  Switzerland  ...          UEFA 1993-08-08\n",
              "3     4       Sweden  ...          UEFA 1993-08-08\n",
              "4     5    Argentina  ...      CONMEBOL 1993-08-08\n",
              "\n",
              "[5 rows x 16 columns]"
            ]
          },
          "metadata": {},
          "execution_count": 91
        }
      ]
    },
    {
      "cell_type": "code",
      "metadata": {
        "id": "XJn2KjW-WMlG",
        "colab": {
          "base_uri": "https://localhost:8080/",
          "height": 288
        },
        "outputId": "bdf80f8c-8e76-4223-d44b-7dd889ba2aff"
      },
      "source": [
        "# Loading the FiFa results Dataset while specifying the datetime column\n",
        "\n",
        "results = pd.read_csv('/content/results.csv',parse_dates=['date'])\n",
        "results.head(5)\n"
      ],
      "execution_count": 92,
      "outputs": [
        {
          "output_type": "execute_result",
          "data": {
            "text/html": [
              "<div>\n",
              "<style scoped>\n",
              "    .dataframe tbody tr th:only-of-type {\n",
              "        vertical-align: middle;\n",
              "    }\n",
              "\n",
              "    .dataframe tbody tr th {\n",
              "        vertical-align: top;\n",
              "    }\n",
              "\n",
              "    .dataframe thead th {\n",
              "        text-align: right;\n",
              "    }\n",
              "</style>\n",
              "<table border=\"1\" class=\"dataframe\">\n",
              "  <thead>\n",
              "    <tr style=\"text-align: right;\">\n",
              "      <th></th>\n",
              "      <th>date</th>\n",
              "      <th>home_team</th>\n",
              "      <th>away_team</th>\n",
              "      <th>home_score</th>\n",
              "      <th>away_score</th>\n",
              "      <th>tournament</th>\n",
              "      <th>city</th>\n",
              "      <th>country</th>\n",
              "      <th>neutral</th>\n",
              "    </tr>\n",
              "  </thead>\n",
              "  <tbody>\n",
              "    <tr>\n",
              "      <th>0</th>\n",
              "      <td>1872-11-30</td>\n",
              "      <td>Scotland</td>\n",
              "      <td>England</td>\n",
              "      <td>0</td>\n",
              "      <td>0</td>\n",
              "      <td>Friendly</td>\n",
              "      <td>Glasgow</td>\n",
              "      <td>Scotland</td>\n",
              "      <td>False</td>\n",
              "    </tr>\n",
              "    <tr>\n",
              "      <th>1</th>\n",
              "      <td>1873-03-08</td>\n",
              "      <td>England</td>\n",
              "      <td>Scotland</td>\n",
              "      <td>4</td>\n",
              "      <td>2</td>\n",
              "      <td>Friendly</td>\n",
              "      <td>London</td>\n",
              "      <td>England</td>\n",
              "      <td>False</td>\n",
              "    </tr>\n",
              "    <tr>\n",
              "      <th>2</th>\n",
              "      <td>1874-03-07</td>\n",
              "      <td>Scotland</td>\n",
              "      <td>England</td>\n",
              "      <td>2</td>\n",
              "      <td>1</td>\n",
              "      <td>Friendly</td>\n",
              "      <td>Glasgow</td>\n",
              "      <td>Scotland</td>\n",
              "      <td>False</td>\n",
              "    </tr>\n",
              "    <tr>\n",
              "      <th>3</th>\n",
              "      <td>1875-03-06</td>\n",
              "      <td>England</td>\n",
              "      <td>Scotland</td>\n",
              "      <td>2</td>\n",
              "      <td>2</td>\n",
              "      <td>Friendly</td>\n",
              "      <td>London</td>\n",
              "      <td>England</td>\n",
              "      <td>False</td>\n",
              "    </tr>\n",
              "    <tr>\n",
              "      <th>4</th>\n",
              "      <td>1876-03-04</td>\n",
              "      <td>Scotland</td>\n",
              "      <td>England</td>\n",
              "      <td>3</td>\n",
              "      <td>0</td>\n",
              "      <td>Friendly</td>\n",
              "      <td>Glasgow</td>\n",
              "      <td>Scotland</td>\n",
              "      <td>False</td>\n",
              "    </tr>\n",
              "  </tbody>\n",
              "</table>\n",
              "</div>"
            ],
            "text/plain": [
              "        date home_team away_team  ...     city   country neutral\n",
              "0 1872-11-30  Scotland   England  ...  Glasgow  Scotland   False\n",
              "1 1873-03-08   England  Scotland  ...   London   England   False\n",
              "2 1874-03-07  Scotland   England  ...  Glasgow  Scotland   False\n",
              "3 1875-03-06   England  Scotland  ...   London   England   False\n",
              "4 1876-03-04  Scotland   England  ...  Glasgow  Scotland   False\n",
              "\n",
              "[5 rows x 9 columns]"
            ]
          },
          "metadata": {},
          "execution_count": 92
        }
      ]
    },
    {
      "cell_type": "markdown",
      "metadata": {
        "id": "OI3P3YnHUEBk"
      },
      "source": [
        "# 3. Cleaning the Data"
      ]
    },
    {
      "cell_type": "markdown",
      "metadata": {
        "id": "hG9Mj0NsWz8f"
      },
      "source": [
        "## Fifa Ranking Dataset"
      ]
    },
    {
      "cell_type": "code",
      "metadata": {
        "id": "YjSVNwgptHxY",
        "colab": {
          "base_uri": "https://localhost:8080/"
        },
        "outputId": "7a6b0228-87c4-46b7-d8c0-a6d7356c56d2"
      },
      "source": [
        "# Determining the number of records in our dataset and the respective datatypes\n",
        "\n",
        "ranking.info()"
      ],
      "execution_count": 93,
      "outputs": [
        {
          "output_type": "stream",
          "name": "stdout",
          "text": [
            "<class 'pandas.core.frame.DataFrame'>\n",
            "RangeIndex: 57793 entries, 0 to 57792\n",
            "Data columns (total 16 columns):\n",
            " #   Column                   Non-Null Count  Dtype         \n",
            "---  ------                   --------------  -----         \n",
            " 0   rank                     57793 non-null  int64         \n",
            " 1   country_full             57793 non-null  object        \n",
            " 2   country_abrv             57793 non-null  object        \n",
            " 3   total_points             57793 non-null  float64       \n",
            " 4   previous_points          57793 non-null  int64         \n",
            " 5   rank_change              57793 non-null  int64         \n",
            " 6   cur_year_avg             57793 non-null  float64       \n",
            " 7   cur_year_avg_weighted    57793 non-null  float64       \n",
            " 8   last_year_avg            57793 non-null  float64       \n",
            " 9   last_year_avg_weighted   57793 non-null  float64       \n",
            " 10  two_year_ago_avg         57793 non-null  float64       \n",
            " 11  two_year_ago_weighted    57793 non-null  float64       \n",
            " 12  three_year_ago_avg       57793 non-null  float64       \n",
            " 13  three_year_ago_weighted  57793 non-null  float64       \n",
            " 14  confederation            57793 non-null  object        \n",
            " 15  rank_date                57793 non-null  datetime64[ns]\n",
            "dtypes: datetime64[ns](1), float64(9), int64(3), object(3)\n",
            "memory usage: 7.1+ MB\n"
          ]
        }
      ]
    },
    {
      "cell_type": "code",
      "metadata": {
        "id": "BsXU5uQctcBr",
        "colab": {
          "base_uri": "https://localhost:8080/"
        },
        "outputId": "7bc3a0db-b3e7-4757-95d0-625d87a32755"
      },
      "source": [
        "#checking for duplicates in the results column\n",
        "\n",
        "ranking.duplicated().sum()"
      ],
      "execution_count": 94,
      "outputs": [
        {
          "output_type": "execute_result",
          "data": {
            "text/plain": [
              "37"
            ]
          },
          "metadata": {},
          "execution_count": 94
        }
      ]
    },
    {
      "cell_type": "code",
      "metadata": {
        "id": "jjhNG3PPttJS",
        "colab": {
          "base_uri": "https://localhost:8080/"
        },
        "outputId": "e7d98303-caf6-49fc-ef59-b9d48030aee8"
      },
      "source": [
        "#dropping the duplicated columns in the ranking dataset\n",
        "#keeping the first record of the duplicates\n",
        "\n",
        "ranking.drop_duplicates(subset = None, keep = 'first', inplace = True)\n",
        "ranking.shape"
      ],
      "execution_count": 95,
      "outputs": [
        {
          "output_type": "execute_result",
          "data": {
            "text/plain": [
              "(57756, 16)"
            ]
          },
          "metadata": {},
          "execution_count": 95
        }
      ]
    },
    {
      "cell_type": "code",
      "metadata": {
        "id": "xHhTw5eKWr0n",
        "colab": {
          "base_uri": "https://localhost:8080/",
          "height": 308
        },
        "outputId": "19b5a5c5-243f-42a4-ec1a-bb4af39a3f60"
      },
      "source": [
        "# Previewing the top of our dataset\n",
        "\n",
        "ranking.head()"
      ],
      "execution_count": 96,
      "outputs": [
        {
          "output_type": "execute_result",
          "data": {
            "text/html": [
              "<div>\n",
              "<style scoped>\n",
              "    .dataframe tbody tr th:only-of-type {\n",
              "        vertical-align: middle;\n",
              "    }\n",
              "\n",
              "    .dataframe tbody tr th {\n",
              "        vertical-align: top;\n",
              "    }\n",
              "\n",
              "    .dataframe thead th {\n",
              "        text-align: right;\n",
              "    }\n",
              "</style>\n",
              "<table border=\"1\" class=\"dataframe\">\n",
              "  <thead>\n",
              "    <tr style=\"text-align: right;\">\n",
              "      <th></th>\n",
              "      <th>rank</th>\n",
              "      <th>country_full</th>\n",
              "      <th>country_abrv</th>\n",
              "      <th>total_points</th>\n",
              "      <th>previous_points</th>\n",
              "      <th>rank_change</th>\n",
              "      <th>cur_year_avg</th>\n",
              "      <th>cur_year_avg_weighted</th>\n",
              "      <th>last_year_avg</th>\n",
              "      <th>last_year_avg_weighted</th>\n",
              "      <th>two_year_ago_avg</th>\n",
              "      <th>two_year_ago_weighted</th>\n",
              "      <th>three_year_ago_avg</th>\n",
              "      <th>three_year_ago_weighted</th>\n",
              "      <th>confederation</th>\n",
              "      <th>rank_date</th>\n",
              "    </tr>\n",
              "  </thead>\n",
              "  <tbody>\n",
              "    <tr>\n",
              "      <th>0</th>\n",
              "      <td>1</td>\n",
              "      <td>Germany</td>\n",
              "      <td>GER</td>\n",
              "      <td>0.0</td>\n",
              "      <td>57</td>\n",
              "      <td>0</td>\n",
              "      <td>0.0</td>\n",
              "      <td>0.0</td>\n",
              "      <td>0.0</td>\n",
              "      <td>0.0</td>\n",
              "      <td>0.0</td>\n",
              "      <td>0.0</td>\n",
              "      <td>0.0</td>\n",
              "      <td>0.0</td>\n",
              "      <td>UEFA</td>\n",
              "      <td>1993-08-08</td>\n",
              "    </tr>\n",
              "    <tr>\n",
              "      <th>1</th>\n",
              "      <td>2</td>\n",
              "      <td>Italy</td>\n",
              "      <td>ITA</td>\n",
              "      <td>0.0</td>\n",
              "      <td>57</td>\n",
              "      <td>0</td>\n",
              "      <td>0.0</td>\n",
              "      <td>0.0</td>\n",
              "      <td>0.0</td>\n",
              "      <td>0.0</td>\n",
              "      <td>0.0</td>\n",
              "      <td>0.0</td>\n",
              "      <td>0.0</td>\n",
              "      <td>0.0</td>\n",
              "      <td>UEFA</td>\n",
              "      <td>1993-08-08</td>\n",
              "    </tr>\n",
              "    <tr>\n",
              "      <th>2</th>\n",
              "      <td>3</td>\n",
              "      <td>Switzerland</td>\n",
              "      <td>SUI</td>\n",
              "      <td>0.0</td>\n",
              "      <td>50</td>\n",
              "      <td>9</td>\n",
              "      <td>0.0</td>\n",
              "      <td>0.0</td>\n",
              "      <td>0.0</td>\n",
              "      <td>0.0</td>\n",
              "      <td>0.0</td>\n",
              "      <td>0.0</td>\n",
              "      <td>0.0</td>\n",
              "      <td>0.0</td>\n",
              "      <td>UEFA</td>\n",
              "      <td>1993-08-08</td>\n",
              "    </tr>\n",
              "    <tr>\n",
              "      <th>3</th>\n",
              "      <td>4</td>\n",
              "      <td>Sweden</td>\n",
              "      <td>SWE</td>\n",
              "      <td>0.0</td>\n",
              "      <td>55</td>\n",
              "      <td>0</td>\n",
              "      <td>0.0</td>\n",
              "      <td>0.0</td>\n",
              "      <td>0.0</td>\n",
              "      <td>0.0</td>\n",
              "      <td>0.0</td>\n",
              "      <td>0.0</td>\n",
              "      <td>0.0</td>\n",
              "      <td>0.0</td>\n",
              "      <td>UEFA</td>\n",
              "      <td>1993-08-08</td>\n",
              "    </tr>\n",
              "    <tr>\n",
              "      <th>4</th>\n",
              "      <td>5</td>\n",
              "      <td>Argentina</td>\n",
              "      <td>ARG</td>\n",
              "      <td>0.0</td>\n",
              "      <td>51</td>\n",
              "      <td>5</td>\n",
              "      <td>0.0</td>\n",
              "      <td>0.0</td>\n",
              "      <td>0.0</td>\n",
              "      <td>0.0</td>\n",
              "      <td>0.0</td>\n",
              "      <td>0.0</td>\n",
              "      <td>0.0</td>\n",
              "      <td>0.0</td>\n",
              "      <td>CONMEBOL</td>\n",
              "      <td>1993-08-08</td>\n",
              "    </tr>\n",
              "  </tbody>\n",
              "</table>\n",
              "</div>"
            ],
            "text/plain": [
              "   rank country_full  ... confederation  rank_date\n",
              "0     1      Germany  ...          UEFA 1993-08-08\n",
              "1     2        Italy  ...          UEFA 1993-08-08\n",
              "2     3  Switzerland  ...          UEFA 1993-08-08\n",
              "3     4       Sweden  ...          UEFA 1993-08-08\n",
              "4     5    Argentina  ...      CONMEBOL 1993-08-08\n",
              "\n",
              "[5 rows x 16 columns]"
            ]
          },
          "metadata": {},
          "execution_count": 96
        }
      ]
    },
    {
      "cell_type": "code",
      "metadata": {
        "id": "e9AzGcZFrIIr",
        "colab": {
          "base_uri": "https://localhost:8080/",
          "height": 308
        },
        "outputId": "a9de9b40-32cc-4360-f00f-a42ceb493891"
      },
      "source": [
        "# Previewing the bottom of our ranking dataset\n",
        "\n",
        "ranking.tail()"
      ],
      "execution_count": 97,
      "outputs": [
        {
          "output_type": "execute_result",
          "data": {
            "text/html": [
              "<div>\n",
              "<style scoped>\n",
              "    .dataframe tbody tr th:only-of-type {\n",
              "        vertical-align: middle;\n",
              "    }\n",
              "\n",
              "    .dataframe tbody tr th {\n",
              "        vertical-align: top;\n",
              "    }\n",
              "\n",
              "    .dataframe thead th {\n",
              "        text-align: right;\n",
              "    }\n",
              "</style>\n",
              "<table border=\"1\" class=\"dataframe\">\n",
              "  <thead>\n",
              "    <tr style=\"text-align: right;\">\n",
              "      <th></th>\n",
              "      <th>rank</th>\n",
              "      <th>country_full</th>\n",
              "      <th>country_abrv</th>\n",
              "      <th>total_points</th>\n",
              "      <th>previous_points</th>\n",
              "      <th>rank_change</th>\n",
              "      <th>cur_year_avg</th>\n",
              "      <th>cur_year_avg_weighted</th>\n",
              "      <th>last_year_avg</th>\n",
              "      <th>last_year_avg_weighted</th>\n",
              "      <th>two_year_ago_avg</th>\n",
              "      <th>two_year_ago_weighted</th>\n",
              "      <th>three_year_ago_avg</th>\n",
              "      <th>three_year_ago_weighted</th>\n",
              "      <th>confederation</th>\n",
              "      <th>rank_date</th>\n",
              "    </tr>\n",
              "  </thead>\n",
              "  <tbody>\n",
              "    <tr>\n",
              "      <th>57788</th>\n",
              "      <td>206</td>\n",
              "      <td>Anguilla</td>\n",
              "      <td>AIA</td>\n",
              "      <td>0.0</td>\n",
              "      <td>0</td>\n",
              "      <td>1</td>\n",
              "      <td>0.0</td>\n",
              "      <td>0.0</td>\n",
              "      <td>0.0</td>\n",
              "      <td>0.0</td>\n",
              "      <td>0.0</td>\n",
              "      <td>0.0</td>\n",
              "      <td>0.0</td>\n",
              "      <td>0.0</td>\n",
              "      <td>CONCACAF</td>\n",
              "      <td>2018-06-07</td>\n",
              "    </tr>\n",
              "    <tr>\n",
              "      <th>57789</th>\n",
              "      <td>206</td>\n",
              "      <td>Bahamas</td>\n",
              "      <td>BAH</td>\n",
              "      <td>0.0</td>\n",
              "      <td>0</td>\n",
              "      <td>1</td>\n",
              "      <td>0.0</td>\n",
              "      <td>0.0</td>\n",
              "      <td>0.0</td>\n",
              "      <td>0.0</td>\n",
              "      <td>0.0</td>\n",
              "      <td>0.0</td>\n",
              "      <td>0.0</td>\n",
              "      <td>0.0</td>\n",
              "      <td>CONCACAF</td>\n",
              "      <td>2018-06-07</td>\n",
              "    </tr>\n",
              "    <tr>\n",
              "      <th>57790</th>\n",
              "      <td>206</td>\n",
              "      <td>Eritrea</td>\n",
              "      <td>ERI</td>\n",
              "      <td>0.0</td>\n",
              "      <td>0</td>\n",
              "      <td>1</td>\n",
              "      <td>0.0</td>\n",
              "      <td>0.0</td>\n",
              "      <td>0.0</td>\n",
              "      <td>0.0</td>\n",
              "      <td>0.0</td>\n",
              "      <td>0.0</td>\n",
              "      <td>0.0</td>\n",
              "      <td>0.0</td>\n",
              "      <td>CAF</td>\n",
              "      <td>2018-06-07</td>\n",
              "    </tr>\n",
              "    <tr>\n",
              "      <th>57791</th>\n",
              "      <td>206</td>\n",
              "      <td>Somalia</td>\n",
              "      <td>SOM</td>\n",
              "      <td>0.0</td>\n",
              "      <td>0</td>\n",
              "      <td>1</td>\n",
              "      <td>0.0</td>\n",
              "      <td>0.0</td>\n",
              "      <td>0.0</td>\n",
              "      <td>0.0</td>\n",
              "      <td>0.0</td>\n",
              "      <td>0.0</td>\n",
              "      <td>0.0</td>\n",
              "      <td>0.0</td>\n",
              "      <td>CAF</td>\n",
              "      <td>2018-06-07</td>\n",
              "    </tr>\n",
              "    <tr>\n",
              "      <th>57792</th>\n",
              "      <td>206</td>\n",
              "      <td>Tonga</td>\n",
              "      <td>TGA</td>\n",
              "      <td>0.0</td>\n",
              "      <td>0</td>\n",
              "      <td>1</td>\n",
              "      <td>0.0</td>\n",
              "      <td>0.0</td>\n",
              "      <td>0.0</td>\n",
              "      <td>0.0</td>\n",
              "      <td>0.0</td>\n",
              "      <td>0.0</td>\n",
              "      <td>0.0</td>\n",
              "      <td>0.0</td>\n",
              "      <td>OFC</td>\n",
              "      <td>2018-06-07</td>\n",
              "    </tr>\n",
              "  </tbody>\n",
              "</table>\n",
              "</div>"
            ],
            "text/plain": [
              "       rank country_full  ... confederation  rank_date\n",
              "57788   206     Anguilla  ...      CONCACAF 2018-06-07\n",
              "57789   206      Bahamas  ...      CONCACAF 2018-06-07\n",
              "57790   206      Eritrea  ...           CAF 2018-06-07\n",
              "57791   206      Somalia  ...           CAF 2018-06-07\n",
              "57792   206        Tonga  ...           OFC 2018-06-07\n",
              "\n",
              "[5 rows x 16 columns]"
            ]
          },
          "metadata": {},
          "execution_count": 97
        }
      ]
    },
    {
      "cell_type": "code",
      "metadata": {
        "id": "n8-dW4sQWzbc",
        "colab": {
          "base_uri": "https://localhost:8080/",
          "height": 317
        },
        "outputId": "f24a8ecd-8b9c-4233-fa23-608b1e0991b4"
      },
      "source": [
        "# Checking the properties of the ranking dataset\n",
        "\n",
        "ranking.describe()"
      ],
      "execution_count": 98,
      "outputs": [
        {
          "output_type": "execute_result",
          "data": {
            "text/html": [
              "<div>\n",
              "<style scoped>\n",
              "    .dataframe tbody tr th:only-of-type {\n",
              "        vertical-align: middle;\n",
              "    }\n",
              "\n",
              "    .dataframe tbody tr th {\n",
              "        vertical-align: top;\n",
              "    }\n",
              "\n",
              "    .dataframe thead th {\n",
              "        text-align: right;\n",
              "    }\n",
              "</style>\n",
              "<table border=\"1\" class=\"dataframe\">\n",
              "  <thead>\n",
              "    <tr style=\"text-align: right;\">\n",
              "      <th></th>\n",
              "      <th>rank</th>\n",
              "      <th>total_points</th>\n",
              "      <th>previous_points</th>\n",
              "      <th>rank_change</th>\n",
              "      <th>cur_year_avg</th>\n",
              "      <th>cur_year_avg_weighted</th>\n",
              "      <th>last_year_avg</th>\n",
              "      <th>last_year_avg_weighted</th>\n",
              "      <th>two_year_ago_avg</th>\n",
              "      <th>two_year_ago_weighted</th>\n",
              "      <th>three_year_ago_avg</th>\n",
              "      <th>three_year_ago_weighted</th>\n",
              "    </tr>\n",
              "  </thead>\n",
              "  <tbody>\n",
              "    <tr>\n",
              "      <th>count</th>\n",
              "      <td>57756.000000</td>\n",
              "      <td>57756.000000</td>\n",
              "      <td>57756.000000</td>\n",
              "      <td>57756.000000</td>\n",
              "      <td>57756.000000</td>\n",
              "      <td>57756.000000</td>\n",
              "      <td>57756.000000</td>\n",
              "      <td>57756.000000</td>\n",
              "      <td>57756.000000</td>\n",
              "      <td>57756.000000</td>\n",
              "      <td>57756.000000</td>\n",
              "      <td>57756.000000</td>\n",
              "    </tr>\n",
              "    <tr>\n",
              "      <th>mean</th>\n",
              "      <td>101.618118</td>\n",
              "      <td>121.971151</td>\n",
              "      <td>332.339965</td>\n",
              "      <td>-0.009938</td>\n",
              "      <td>61.751362</td>\n",
              "      <td>61.751362</td>\n",
              "      <td>60.953507</td>\n",
              "      <td>30.476830</td>\n",
              "      <td>59.734768</td>\n",
              "      <td>17.920469</td>\n",
              "      <td>59.114466</td>\n",
              "      <td>11.822922</td>\n",
              "    </tr>\n",
              "    <tr>\n",
              "      <th>std</th>\n",
              "      <td>58.635096</td>\n",
              "      <td>260.479191</td>\n",
              "      <td>302.964176</td>\n",
              "      <td>5.802788</td>\n",
              "      <td>138.042006</td>\n",
              "      <td>138.042006</td>\n",
              "      <td>137.712945</td>\n",
              "      <td>68.856514</td>\n",
              "      <td>136.319119</td>\n",
              "      <td>40.895761</td>\n",
              "      <td>135.540135</td>\n",
              "      <td>27.108034</td>\n",
              "    </tr>\n",
              "    <tr>\n",
              "      <th>min</th>\n",
              "      <td>1.000000</td>\n",
              "      <td>0.000000</td>\n",
              "      <td>0.000000</td>\n",
              "      <td>-72.000000</td>\n",
              "      <td>0.000000</td>\n",
              "      <td>0.000000</td>\n",
              "      <td>0.000000</td>\n",
              "      <td>0.000000</td>\n",
              "      <td>0.000000</td>\n",
              "      <td>0.000000</td>\n",
              "      <td>0.000000</td>\n",
              "      <td>0.000000</td>\n",
              "    </tr>\n",
              "    <tr>\n",
              "      <th>25%</th>\n",
              "      <td>51.000000</td>\n",
              "      <td>0.000000</td>\n",
              "      <td>56.000000</td>\n",
              "      <td>-2.000000</td>\n",
              "      <td>0.000000</td>\n",
              "      <td>0.000000</td>\n",
              "      <td>0.000000</td>\n",
              "      <td>0.000000</td>\n",
              "      <td>0.000000</td>\n",
              "      <td>0.000000</td>\n",
              "      <td>0.000000</td>\n",
              "      <td>0.000000</td>\n",
              "    </tr>\n",
              "    <tr>\n",
              "      <th>50%</th>\n",
              "      <td>101.000000</td>\n",
              "      <td>0.000000</td>\n",
              "      <td>272.000000</td>\n",
              "      <td>0.000000</td>\n",
              "      <td>0.000000</td>\n",
              "      <td>0.000000</td>\n",
              "      <td>0.000000</td>\n",
              "      <td>0.000000</td>\n",
              "      <td>0.000000</td>\n",
              "      <td>0.000000</td>\n",
              "      <td>0.000000</td>\n",
              "      <td>0.000000</td>\n",
              "    </tr>\n",
              "    <tr>\n",
              "      <th>75%</th>\n",
              "      <td>152.000000</td>\n",
              "      <td>91.500000</td>\n",
              "      <td>525.000000</td>\n",
              "      <td>1.000000</td>\n",
              "      <td>30.447500</td>\n",
              "      <td>30.447500</td>\n",
              "      <td>26.400000</td>\n",
              "      <td>13.200000</td>\n",
              "      <td>21.250000</td>\n",
              "      <td>6.380000</td>\n",
              "      <td>20.795000</td>\n",
              "      <td>4.162500</td>\n",
              "    </tr>\n",
              "    <tr>\n",
              "      <th>max</th>\n",
              "      <td>209.000000</td>\n",
              "      <td>1775.030000</td>\n",
              "      <td>1920.000000</td>\n",
              "      <td>92.000000</td>\n",
              "      <td>1158.660000</td>\n",
              "      <td>1158.660000</td>\n",
              "      <td>1169.570000</td>\n",
              "      <td>584.790000</td>\n",
              "      <td>1159.710000</td>\n",
              "      <td>347.910000</td>\n",
              "      <td>1200.770000</td>\n",
              "      <td>240.150000</td>\n",
              "    </tr>\n",
              "  </tbody>\n",
              "</table>\n",
              "</div>"
            ],
            "text/plain": [
              "               rank  total_points  ...  three_year_ago_avg  three_year_ago_weighted\n",
              "count  57756.000000  57756.000000  ...        57756.000000             57756.000000\n",
              "mean     101.618118    121.971151  ...           59.114466                11.822922\n",
              "std       58.635096    260.479191  ...          135.540135                27.108034\n",
              "min        1.000000      0.000000  ...            0.000000                 0.000000\n",
              "25%       51.000000      0.000000  ...            0.000000                 0.000000\n",
              "50%      101.000000      0.000000  ...            0.000000                 0.000000\n",
              "75%      152.000000     91.500000  ...           20.795000                 4.162500\n",
              "max      209.000000   1775.030000  ...         1200.770000               240.150000\n",
              "\n",
              "[8 rows x 12 columns]"
            ]
          },
          "metadata": {},
          "execution_count": 98
        }
      ]
    },
    {
      "cell_type": "code",
      "metadata": {
        "id": "ntvQJmYJ2lQD",
        "colab": {
          "base_uri": "https://localhost:8080/",
          "height": 419
        },
        "outputId": "511d05d6-02a8-4313-9083-c18405c168ee"
      },
      "source": [
        "#chosing the relevant columns to work with.\n",
        "\n",
        "ranking_1 = ranking[[\"rank\",\"country_full\",\"confederation\",\"rank_date\"]]\n",
        "ranking_1\n"
      ],
      "execution_count": 99,
      "outputs": [
        {
          "output_type": "execute_result",
          "data": {
            "text/html": [
              "<div>\n",
              "<style scoped>\n",
              "    .dataframe tbody tr th:only-of-type {\n",
              "        vertical-align: middle;\n",
              "    }\n",
              "\n",
              "    .dataframe tbody tr th {\n",
              "        vertical-align: top;\n",
              "    }\n",
              "\n",
              "    .dataframe thead th {\n",
              "        text-align: right;\n",
              "    }\n",
              "</style>\n",
              "<table border=\"1\" class=\"dataframe\">\n",
              "  <thead>\n",
              "    <tr style=\"text-align: right;\">\n",
              "      <th></th>\n",
              "      <th>rank</th>\n",
              "      <th>country_full</th>\n",
              "      <th>confederation</th>\n",
              "      <th>rank_date</th>\n",
              "    </tr>\n",
              "  </thead>\n",
              "  <tbody>\n",
              "    <tr>\n",
              "      <th>0</th>\n",
              "      <td>1</td>\n",
              "      <td>Germany</td>\n",
              "      <td>UEFA</td>\n",
              "      <td>1993-08-08</td>\n",
              "    </tr>\n",
              "    <tr>\n",
              "      <th>1</th>\n",
              "      <td>2</td>\n",
              "      <td>Italy</td>\n",
              "      <td>UEFA</td>\n",
              "      <td>1993-08-08</td>\n",
              "    </tr>\n",
              "    <tr>\n",
              "      <th>2</th>\n",
              "      <td>3</td>\n",
              "      <td>Switzerland</td>\n",
              "      <td>UEFA</td>\n",
              "      <td>1993-08-08</td>\n",
              "    </tr>\n",
              "    <tr>\n",
              "      <th>3</th>\n",
              "      <td>4</td>\n",
              "      <td>Sweden</td>\n",
              "      <td>UEFA</td>\n",
              "      <td>1993-08-08</td>\n",
              "    </tr>\n",
              "    <tr>\n",
              "      <th>4</th>\n",
              "      <td>5</td>\n",
              "      <td>Argentina</td>\n",
              "      <td>CONMEBOL</td>\n",
              "      <td>1993-08-08</td>\n",
              "    </tr>\n",
              "    <tr>\n",
              "      <th>...</th>\n",
              "      <td>...</td>\n",
              "      <td>...</td>\n",
              "      <td>...</td>\n",
              "      <td>...</td>\n",
              "    </tr>\n",
              "    <tr>\n",
              "      <th>57788</th>\n",
              "      <td>206</td>\n",
              "      <td>Anguilla</td>\n",
              "      <td>CONCACAF</td>\n",
              "      <td>2018-06-07</td>\n",
              "    </tr>\n",
              "    <tr>\n",
              "      <th>57789</th>\n",
              "      <td>206</td>\n",
              "      <td>Bahamas</td>\n",
              "      <td>CONCACAF</td>\n",
              "      <td>2018-06-07</td>\n",
              "    </tr>\n",
              "    <tr>\n",
              "      <th>57790</th>\n",
              "      <td>206</td>\n",
              "      <td>Eritrea</td>\n",
              "      <td>CAF</td>\n",
              "      <td>2018-06-07</td>\n",
              "    </tr>\n",
              "    <tr>\n",
              "      <th>57791</th>\n",
              "      <td>206</td>\n",
              "      <td>Somalia</td>\n",
              "      <td>CAF</td>\n",
              "      <td>2018-06-07</td>\n",
              "    </tr>\n",
              "    <tr>\n",
              "      <th>57792</th>\n",
              "      <td>206</td>\n",
              "      <td>Tonga</td>\n",
              "      <td>OFC</td>\n",
              "      <td>2018-06-07</td>\n",
              "    </tr>\n",
              "  </tbody>\n",
              "</table>\n",
              "<p>57756 rows × 4 columns</p>\n",
              "</div>"
            ],
            "text/plain": [
              "       rank country_full confederation  rank_date\n",
              "0         1      Germany          UEFA 1993-08-08\n",
              "1         2        Italy          UEFA 1993-08-08\n",
              "2         3  Switzerland          UEFA 1993-08-08\n",
              "3         4       Sweden          UEFA 1993-08-08\n",
              "4         5    Argentina      CONMEBOL 1993-08-08\n",
              "...     ...          ...           ...        ...\n",
              "57788   206     Anguilla      CONCACAF 2018-06-07\n",
              "57789   206      Bahamas      CONCACAF 2018-06-07\n",
              "57790   206      Eritrea           CAF 2018-06-07\n",
              "57791   206      Somalia           CAF 2018-06-07\n",
              "57792   206        Tonga           OFC 2018-06-07\n",
              "\n",
              "[57756 rows x 4 columns]"
            ]
          },
          "metadata": {},
          "execution_count": 99
        }
      ]
    },
    {
      "cell_type": "code",
      "metadata": {
        "id": "6NJ5O6sWOEJG",
        "colab": {
          "base_uri": "https://localhost:8080/",
          "height": 203
        },
        "outputId": "d98ef08b-2826-4fbe-d4f3-abf7fa1ba61b"
      },
      "source": [
        "#creating a copy of ranking_1 dataset\n",
        "\n",
        "ranking_2 = ranking_1\n",
        "\n",
        "# Separate the date column into Year and Month of the fifa_ranking dataset\n",
        "\n",
        "ranking_2['Year'] = ranking_1.rank_date.dt.year\n",
        "ranking_2['month'] =ranking_1.rank_date.dt.month\n",
        "ranking_2.head()"
      ],
      "execution_count": 100,
      "outputs": [
        {
          "output_type": "execute_result",
          "data": {
            "text/html": [
              "<div>\n",
              "<style scoped>\n",
              "    .dataframe tbody tr th:only-of-type {\n",
              "        vertical-align: middle;\n",
              "    }\n",
              "\n",
              "    .dataframe tbody tr th {\n",
              "        vertical-align: top;\n",
              "    }\n",
              "\n",
              "    .dataframe thead th {\n",
              "        text-align: right;\n",
              "    }\n",
              "</style>\n",
              "<table border=\"1\" class=\"dataframe\">\n",
              "  <thead>\n",
              "    <tr style=\"text-align: right;\">\n",
              "      <th></th>\n",
              "      <th>rank</th>\n",
              "      <th>country_full</th>\n",
              "      <th>confederation</th>\n",
              "      <th>rank_date</th>\n",
              "      <th>Year</th>\n",
              "      <th>month</th>\n",
              "    </tr>\n",
              "  </thead>\n",
              "  <tbody>\n",
              "    <tr>\n",
              "      <th>0</th>\n",
              "      <td>1</td>\n",
              "      <td>Germany</td>\n",
              "      <td>UEFA</td>\n",
              "      <td>1993-08-08</td>\n",
              "      <td>1993</td>\n",
              "      <td>8</td>\n",
              "    </tr>\n",
              "    <tr>\n",
              "      <th>1</th>\n",
              "      <td>2</td>\n",
              "      <td>Italy</td>\n",
              "      <td>UEFA</td>\n",
              "      <td>1993-08-08</td>\n",
              "      <td>1993</td>\n",
              "      <td>8</td>\n",
              "    </tr>\n",
              "    <tr>\n",
              "      <th>2</th>\n",
              "      <td>3</td>\n",
              "      <td>Switzerland</td>\n",
              "      <td>UEFA</td>\n",
              "      <td>1993-08-08</td>\n",
              "      <td>1993</td>\n",
              "      <td>8</td>\n",
              "    </tr>\n",
              "    <tr>\n",
              "      <th>3</th>\n",
              "      <td>4</td>\n",
              "      <td>Sweden</td>\n",
              "      <td>UEFA</td>\n",
              "      <td>1993-08-08</td>\n",
              "      <td>1993</td>\n",
              "      <td>8</td>\n",
              "    </tr>\n",
              "    <tr>\n",
              "      <th>4</th>\n",
              "      <td>5</td>\n",
              "      <td>Argentina</td>\n",
              "      <td>CONMEBOL</td>\n",
              "      <td>1993-08-08</td>\n",
              "      <td>1993</td>\n",
              "      <td>8</td>\n",
              "    </tr>\n",
              "  </tbody>\n",
              "</table>\n",
              "</div>"
            ],
            "text/plain": [
              "   rank country_full confederation  rank_date  Year  month\n",
              "0     1      Germany          UEFA 1993-08-08  1993      8\n",
              "1     2        Italy          UEFA 1993-08-08  1993      8\n",
              "2     3  Switzerland          UEFA 1993-08-08  1993      8\n",
              "3     4       Sweden          UEFA 1993-08-08  1993      8\n",
              "4     5    Argentina      CONMEBOL 1993-08-08  1993      8"
            ]
          },
          "metadata": {},
          "execution_count": 100
        }
      ]
    },
    {
      "cell_type": "code",
      "metadata": {
        "id": "7LmFF0neU6ko",
        "colab": {
          "base_uri": "https://localhost:8080/"
        },
        "outputId": "6406ac5d-6175-47a5-c430-a9998f5eb64e"
      },
      "source": [
        "#creating a copy of the ranking_2 dataframe\n",
        "\n",
        "ranking_3 =  ranking_2\n",
        "\n",
        "#renaming the country_full column to home_team to merge with the results dataset and obtain the home team rank\n",
        "\n",
        "ranking_3 = ranking_3.rename({'country_full': 'home_team'}, axis = 1)\n",
        "ranking_3.columns"
      ],
      "execution_count": 101,
      "outputs": [
        {
          "output_type": "execute_result",
          "data": {
            "text/plain": [
              "Index(['rank', 'home_team', 'confederation', 'rank_date', 'Year', 'month'], dtype='object')"
            ]
          },
          "metadata": {},
          "execution_count": 101
        }
      ]
    },
    {
      "cell_type": "code",
      "metadata": {
        "id": "t0Ubwy_4btMV",
        "colab": {
          "base_uri": "https://localhost:8080/"
        },
        "outputId": "7bcd9f5e-13f3-4af4-fd29-b54ded93a670"
      },
      "source": [
        "#creating a copy of the ranking_2 dataframe\n",
        "\n",
        "ranking_4 =  ranking_2\n",
        "\n",
        "#renaming the country_full column to home_team to merge with the results dataset and obtain the away team rank\n",
        "# previewed the head of ranking_4 dataset\n",
        "\n",
        "ranking_4 = ranking_4.rename({'country_full': 'away_team'}, axis = 1)\n",
        "print(ranking_4.columns)\n",
        "print('\\n\\n', ranking_4.head())"
      ],
      "execution_count": 102,
      "outputs": [
        {
          "output_type": "stream",
          "name": "stdout",
          "text": [
            "Index(['rank', 'away_team', 'confederation', 'rank_date', 'Year', 'month'], dtype='object')\n",
            "\n",
            "\n",
            "    rank    away_team confederation  rank_date  Year  month\n",
            "0     1      Germany          UEFA 1993-08-08  1993      8\n",
            "1     2        Italy          UEFA 1993-08-08  1993      8\n",
            "2     3  Switzerland          UEFA 1993-08-08  1993      8\n",
            "3     4       Sweden          UEFA 1993-08-08  1993      8\n",
            "4     5    Argentina      CONMEBOL 1993-08-08  1993      8\n"
          ]
        }
      ]
    },
    {
      "cell_type": "markdown",
      "metadata": {
        "id": "6Ax2rfZ32mb1"
      },
      "source": [
        "## Fifa Results Dataset"
      ]
    },
    {
      "cell_type": "code",
      "metadata": {
        "id": "m7762c_Y61B1",
        "colab": {
          "base_uri": "https://localhost:8080/",
          "height": 288
        },
        "outputId": "38e5291f-d066-4613-e15e-cfc017cc1d91"
      },
      "source": [
        "#previewing the top of the results dataset\n",
        "\n",
        "results.head()"
      ],
      "execution_count": 103,
      "outputs": [
        {
          "output_type": "execute_result",
          "data": {
            "text/html": [
              "<div>\n",
              "<style scoped>\n",
              "    .dataframe tbody tr th:only-of-type {\n",
              "        vertical-align: middle;\n",
              "    }\n",
              "\n",
              "    .dataframe tbody tr th {\n",
              "        vertical-align: top;\n",
              "    }\n",
              "\n",
              "    .dataframe thead th {\n",
              "        text-align: right;\n",
              "    }\n",
              "</style>\n",
              "<table border=\"1\" class=\"dataframe\">\n",
              "  <thead>\n",
              "    <tr style=\"text-align: right;\">\n",
              "      <th></th>\n",
              "      <th>date</th>\n",
              "      <th>home_team</th>\n",
              "      <th>away_team</th>\n",
              "      <th>home_score</th>\n",
              "      <th>away_score</th>\n",
              "      <th>tournament</th>\n",
              "      <th>city</th>\n",
              "      <th>country</th>\n",
              "      <th>neutral</th>\n",
              "    </tr>\n",
              "  </thead>\n",
              "  <tbody>\n",
              "    <tr>\n",
              "      <th>0</th>\n",
              "      <td>1872-11-30</td>\n",
              "      <td>Scotland</td>\n",
              "      <td>England</td>\n",
              "      <td>0</td>\n",
              "      <td>0</td>\n",
              "      <td>Friendly</td>\n",
              "      <td>Glasgow</td>\n",
              "      <td>Scotland</td>\n",
              "      <td>False</td>\n",
              "    </tr>\n",
              "    <tr>\n",
              "      <th>1</th>\n",
              "      <td>1873-03-08</td>\n",
              "      <td>England</td>\n",
              "      <td>Scotland</td>\n",
              "      <td>4</td>\n",
              "      <td>2</td>\n",
              "      <td>Friendly</td>\n",
              "      <td>London</td>\n",
              "      <td>England</td>\n",
              "      <td>False</td>\n",
              "    </tr>\n",
              "    <tr>\n",
              "      <th>2</th>\n",
              "      <td>1874-03-07</td>\n",
              "      <td>Scotland</td>\n",
              "      <td>England</td>\n",
              "      <td>2</td>\n",
              "      <td>1</td>\n",
              "      <td>Friendly</td>\n",
              "      <td>Glasgow</td>\n",
              "      <td>Scotland</td>\n",
              "      <td>False</td>\n",
              "    </tr>\n",
              "    <tr>\n",
              "      <th>3</th>\n",
              "      <td>1875-03-06</td>\n",
              "      <td>England</td>\n",
              "      <td>Scotland</td>\n",
              "      <td>2</td>\n",
              "      <td>2</td>\n",
              "      <td>Friendly</td>\n",
              "      <td>London</td>\n",
              "      <td>England</td>\n",
              "      <td>False</td>\n",
              "    </tr>\n",
              "    <tr>\n",
              "      <th>4</th>\n",
              "      <td>1876-03-04</td>\n",
              "      <td>Scotland</td>\n",
              "      <td>England</td>\n",
              "      <td>3</td>\n",
              "      <td>0</td>\n",
              "      <td>Friendly</td>\n",
              "      <td>Glasgow</td>\n",
              "      <td>Scotland</td>\n",
              "      <td>False</td>\n",
              "    </tr>\n",
              "  </tbody>\n",
              "</table>\n",
              "</div>"
            ],
            "text/plain": [
              "        date home_team away_team  ...     city   country neutral\n",
              "0 1872-11-30  Scotland   England  ...  Glasgow  Scotland   False\n",
              "1 1873-03-08   England  Scotland  ...   London   England   False\n",
              "2 1874-03-07  Scotland   England  ...  Glasgow  Scotland   False\n",
              "3 1875-03-06   England  Scotland  ...   London   England   False\n",
              "4 1876-03-04  Scotland   England  ...  Glasgow  Scotland   False\n",
              "\n",
              "[5 rows x 9 columns]"
            ]
          },
          "metadata": {},
          "execution_count": 103
        }
      ]
    },
    {
      "cell_type": "code",
      "metadata": {
        "id": "PdE6DOQRopae",
        "colab": {
          "base_uri": "https://localhost:8080/",
          "height": 588
        },
        "outputId": "a71aa6a8-b5af-473f-c552-14f542ac0d8c"
      },
      "source": [
        "#choosing the relevant columns in the results dataset\n",
        "\n",
        "results = results[[\"date\",\"home_team\",\"away_team\",\"home_score\",\"away_score\",\"tournament\",\"country\",\"neutral\"]]\n",
        "results"
      ],
      "execution_count": 104,
      "outputs": [
        {
          "output_type": "execute_result",
          "data": {
            "text/html": [
              "<div>\n",
              "<style scoped>\n",
              "    .dataframe tbody tr th:only-of-type {\n",
              "        vertical-align: middle;\n",
              "    }\n",
              "\n",
              "    .dataframe tbody tr th {\n",
              "        vertical-align: top;\n",
              "    }\n",
              "\n",
              "    .dataframe thead th {\n",
              "        text-align: right;\n",
              "    }\n",
              "</style>\n",
              "<table border=\"1\" class=\"dataframe\">\n",
              "  <thead>\n",
              "    <tr style=\"text-align: right;\">\n",
              "      <th></th>\n",
              "      <th>date</th>\n",
              "      <th>home_team</th>\n",
              "      <th>away_team</th>\n",
              "      <th>home_score</th>\n",
              "      <th>away_score</th>\n",
              "      <th>tournament</th>\n",
              "      <th>country</th>\n",
              "      <th>neutral</th>\n",
              "    </tr>\n",
              "  </thead>\n",
              "  <tbody>\n",
              "    <tr>\n",
              "      <th>0</th>\n",
              "      <td>1872-11-30</td>\n",
              "      <td>Scotland</td>\n",
              "      <td>England</td>\n",
              "      <td>0</td>\n",
              "      <td>0</td>\n",
              "      <td>Friendly</td>\n",
              "      <td>Scotland</td>\n",
              "      <td>False</td>\n",
              "    </tr>\n",
              "    <tr>\n",
              "      <th>1</th>\n",
              "      <td>1873-03-08</td>\n",
              "      <td>England</td>\n",
              "      <td>Scotland</td>\n",
              "      <td>4</td>\n",
              "      <td>2</td>\n",
              "      <td>Friendly</td>\n",
              "      <td>England</td>\n",
              "      <td>False</td>\n",
              "    </tr>\n",
              "    <tr>\n",
              "      <th>2</th>\n",
              "      <td>1874-03-07</td>\n",
              "      <td>Scotland</td>\n",
              "      <td>England</td>\n",
              "      <td>2</td>\n",
              "      <td>1</td>\n",
              "      <td>Friendly</td>\n",
              "      <td>Scotland</td>\n",
              "      <td>False</td>\n",
              "    </tr>\n",
              "    <tr>\n",
              "      <th>3</th>\n",
              "      <td>1875-03-06</td>\n",
              "      <td>England</td>\n",
              "      <td>Scotland</td>\n",
              "      <td>2</td>\n",
              "      <td>2</td>\n",
              "      <td>Friendly</td>\n",
              "      <td>England</td>\n",
              "      <td>False</td>\n",
              "    </tr>\n",
              "    <tr>\n",
              "      <th>4</th>\n",
              "      <td>1876-03-04</td>\n",
              "      <td>Scotland</td>\n",
              "      <td>England</td>\n",
              "      <td>3</td>\n",
              "      <td>0</td>\n",
              "      <td>Friendly</td>\n",
              "      <td>Scotland</td>\n",
              "      <td>False</td>\n",
              "    </tr>\n",
              "    <tr>\n",
              "      <th>...</th>\n",
              "      <td>...</td>\n",
              "      <td>...</td>\n",
              "      <td>...</td>\n",
              "      <td>...</td>\n",
              "      <td>...</td>\n",
              "      <td>...</td>\n",
              "      <td>...</td>\n",
              "      <td>...</td>\n",
              "    </tr>\n",
              "    <tr>\n",
              "      <th>40834</th>\n",
              "      <td>2019-07-18</td>\n",
              "      <td>American Samoa</td>\n",
              "      <td>Tahiti</td>\n",
              "      <td>8</td>\n",
              "      <td>1</td>\n",
              "      <td>Pacific Games</td>\n",
              "      <td>Samoa</td>\n",
              "      <td>True</td>\n",
              "    </tr>\n",
              "    <tr>\n",
              "      <th>40835</th>\n",
              "      <td>2019-07-18</td>\n",
              "      <td>Fiji</td>\n",
              "      <td>Solomon Islands</td>\n",
              "      <td>4</td>\n",
              "      <td>4</td>\n",
              "      <td>Pacific Games</td>\n",
              "      <td>Samoa</td>\n",
              "      <td>True</td>\n",
              "    </tr>\n",
              "    <tr>\n",
              "      <th>40836</th>\n",
              "      <td>2019-07-19</td>\n",
              "      <td>Senegal</td>\n",
              "      <td>Algeria</td>\n",
              "      <td>0</td>\n",
              "      <td>1</td>\n",
              "      <td>African Cup of Nations</td>\n",
              "      <td>Egypt</td>\n",
              "      <td>True</td>\n",
              "    </tr>\n",
              "    <tr>\n",
              "      <th>40837</th>\n",
              "      <td>2019-07-19</td>\n",
              "      <td>Tajikistan</td>\n",
              "      <td>North Korea</td>\n",
              "      <td>0</td>\n",
              "      <td>1</td>\n",
              "      <td>Intercontinental Cup</td>\n",
              "      <td>India</td>\n",
              "      <td>True</td>\n",
              "    </tr>\n",
              "    <tr>\n",
              "      <th>40838</th>\n",
              "      <td>2019-07-20</td>\n",
              "      <td>Papua New Guinea</td>\n",
              "      <td>Fiji</td>\n",
              "      <td>1</td>\n",
              "      <td>1</td>\n",
              "      <td>Pacific Games</td>\n",
              "      <td>Samoa</td>\n",
              "      <td>True</td>\n",
              "    </tr>\n",
              "  </tbody>\n",
              "</table>\n",
              "<p>40839 rows × 8 columns</p>\n",
              "</div>"
            ],
            "text/plain": [
              "            date         home_team  ...   country  neutral\n",
              "0     1872-11-30          Scotland  ...  Scotland    False\n",
              "1     1873-03-08           England  ...   England    False\n",
              "2     1874-03-07          Scotland  ...  Scotland    False\n",
              "3     1875-03-06           England  ...   England    False\n",
              "4     1876-03-04          Scotland  ...  Scotland    False\n",
              "...          ...               ...  ...       ...      ...\n",
              "40834 2019-07-18    American Samoa  ...     Samoa     True\n",
              "40835 2019-07-18              Fiji  ...     Samoa     True\n",
              "40836 2019-07-19           Senegal  ...     Egypt     True\n",
              "40837 2019-07-19        Tajikistan  ...     India     True\n",
              "40838 2019-07-20  Papua New Guinea  ...     Samoa     True\n",
              "\n",
              "[40839 rows x 8 columns]"
            ]
          },
          "metadata": {},
          "execution_count": 104
        }
      ]
    },
    {
      "cell_type": "code",
      "metadata": {
        "id": "39jYTuXD6z83",
        "colab": {
          "base_uri": "https://localhost:8080/"
        },
        "outputId": "6824d38b-64df-431c-93a7-925fdbda5d30"
      },
      "source": [
        "#checking for duplicates in the ranking column\n",
        "\n",
        "results.duplicated().sum()"
      ],
      "execution_count": 105,
      "outputs": [
        {
          "output_type": "execute_result",
          "data": {
            "text/plain": [
              "0"
            ]
          },
          "metadata": {},
          "execution_count": 105
        }
      ]
    },
    {
      "cell_type": "code",
      "metadata": {
        "id": "ltsTTDdKd-0v",
        "colab": {
          "base_uri": "https://localhost:8080/"
        },
        "outputId": "3ea0316b-1b1d-45aa-bebb-33762254c006"
      },
      "source": [
        "#checking for anomalies\n",
        "#the results dataset has records before 1993 which we will drop since there are no corresponding records in the ranking dataset\n",
        "\n",
        "results['date'].describe()"
      ],
      "execution_count": 106,
      "outputs": [
        {
          "output_type": "execute_result",
          "data": {
            "text/plain": [
              "count                   40839\n",
              "unique                  15115\n",
              "top       2012-02-29 00:00:00\n",
              "freq                       66\n",
              "first     1872-11-30 00:00:00\n",
              "last      2019-07-20 00:00:00\n",
              "Name: date, dtype: object"
            ]
          },
          "metadata": {},
          "execution_count": 106
        }
      ]
    },
    {
      "cell_type": "code",
      "metadata": {
        "id": "zdZVg3eLfDWP",
        "colab": {
          "base_uri": "https://localhost:8080/"
        },
        "outputId": "a4ffb637-2fd8-4d7e-c626-7b9355914b6c"
      },
      "source": [
        "#dropping the row entries before 1993 since they do not have corresponding records in the ranking  dataframe.\n",
        "\n",
        "results_1 = results[results[\"date\"] > '1993-01-01']\n",
        "results_1.shape\n",
        "#dropped (40839-23477) = 17362 row entries"
      ],
      "execution_count": 107,
      "outputs": [
        {
          "output_type": "execute_result",
          "data": {
            "text/plain": [
              "(23477, 8)"
            ]
          },
          "metadata": {},
          "execution_count": 107
        }
      ]
    },
    {
      "cell_type": "code",
      "metadata": {
        "id": "GiiBKOpnO10b",
        "colab": {
          "base_uri": "https://localhost:8080/",
          "height": 308
        },
        "outputId": "148f13f9-6647-4f1c-e829-58611136975a"
      },
      "source": [
        "# Separating the date column into Year and Month of the fifa_ranking dataset\n",
        "results_2 =  results_1\n",
        "results_2['Year'] = results_1.date.dt.year\n",
        "results_2['month'] =results_1.date.dt.month\n",
        "results_2.head()"
      ],
      "execution_count": 108,
      "outputs": [
        {
          "output_type": "execute_result",
          "data": {
            "text/html": [
              "<div>\n",
              "<style scoped>\n",
              "    .dataframe tbody tr th:only-of-type {\n",
              "        vertical-align: middle;\n",
              "    }\n",
              "\n",
              "    .dataframe tbody tr th {\n",
              "        vertical-align: top;\n",
              "    }\n",
              "\n",
              "    .dataframe thead th {\n",
              "        text-align: right;\n",
              "    }\n",
              "</style>\n",
              "<table border=\"1\" class=\"dataframe\">\n",
              "  <thead>\n",
              "    <tr style=\"text-align: right;\">\n",
              "      <th></th>\n",
              "      <th>date</th>\n",
              "      <th>home_team</th>\n",
              "      <th>away_team</th>\n",
              "      <th>home_score</th>\n",
              "      <th>away_score</th>\n",
              "      <th>tournament</th>\n",
              "      <th>country</th>\n",
              "      <th>neutral</th>\n",
              "      <th>Year</th>\n",
              "      <th>month</th>\n",
              "    </tr>\n",
              "  </thead>\n",
              "  <tbody>\n",
              "    <tr>\n",
              "      <th>17362</th>\n",
              "      <td>1993-01-02</td>\n",
              "      <td>Gabon</td>\n",
              "      <td>Burkina Faso</td>\n",
              "      <td>1</td>\n",
              "      <td>1</td>\n",
              "      <td>Friendly</td>\n",
              "      <td>Gabon</td>\n",
              "      <td>False</td>\n",
              "      <td>1993</td>\n",
              "      <td>1</td>\n",
              "    </tr>\n",
              "    <tr>\n",
              "      <th>17363</th>\n",
              "      <td>1993-01-02</td>\n",
              "      <td>Kuwait</td>\n",
              "      <td>Lebanon</td>\n",
              "      <td>2</td>\n",
              "      <td>0</td>\n",
              "      <td>Friendly</td>\n",
              "      <td>Kuwait</td>\n",
              "      <td>False</td>\n",
              "      <td>1993</td>\n",
              "      <td>1</td>\n",
              "    </tr>\n",
              "    <tr>\n",
              "      <th>17364</th>\n",
              "      <td>1993-01-03</td>\n",
              "      <td>Burkina Faso</td>\n",
              "      <td>Mali</td>\n",
              "      <td>1</td>\n",
              "      <td>0</td>\n",
              "      <td>Friendly</td>\n",
              "      <td>Gabon</td>\n",
              "      <td>True</td>\n",
              "      <td>1993</td>\n",
              "      <td>1</td>\n",
              "    </tr>\n",
              "    <tr>\n",
              "      <th>17365</th>\n",
              "      <td>1993-01-03</td>\n",
              "      <td>Gabon</td>\n",
              "      <td>Ghana</td>\n",
              "      <td>2</td>\n",
              "      <td>3</td>\n",
              "      <td>Friendly</td>\n",
              "      <td>Gabon</td>\n",
              "      <td>False</td>\n",
              "      <td>1993</td>\n",
              "      <td>1</td>\n",
              "    </tr>\n",
              "    <tr>\n",
              "      <th>17366</th>\n",
              "      <td>1993-01-08</td>\n",
              "      <td>Uganda</td>\n",
              "      <td>Tanzania</td>\n",
              "      <td>3</td>\n",
              "      <td>1</td>\n",
              "      <td>Friendly</td>\n",
              "      <td>Uganda</td>\n",
              "      <td>False</td>\n",
              "      <td>1993</td>\n",
              "      <td>1</td>\n",
              "    </tr>\n",
              "  </tbody>\n",
              "</table>\n",
              "</div>"
            ],
            "text/plain": [
              "            date     home_team     away_team  ...  neutral  Year month\n",
              "17362 1993-01-02         Gabon  Burkina Faso  ...    False  1993     1\n",
              "17363 1993-01-02        Kuwait       Lebanon  ...    False  1993     1\n",
              "17364 1993-01-03  Burkina Faso          Mali  ...     True  1993     1\n",
              "17365 1993-01-03         Gabon         Ghana  ...    False  1993     1\n",
              "17366 1993-01-08        Uganda      Tanzania  ...    False  1993     1\n",
              "\n",
              "[5 rows x 10 columns]"
            ]
          },
          "metadata": {},
          "execution_count": 108
        }
      ]
    },
    {
      "cell_type": "markdown",
      "metadata": {
        "id": "MngVrZN4Nckb"
      },
      "source": [
        "# 4. Merging the Two datasets"
      ]
    },
    {
      "cell_type": "code",
      "metadata": {
        "id": "WeWwh7SpNo_8",
        "colab": {
          "base_uri": "https://localhost:8080/",
          "height": 308
        },
        "outputId": "9a71acd7-e541-414a-98f6-2749644728a4"
      },
      "source": [
        "# Merging the two datasets to obtain the home_team rank dataset : home_team, year and month\n",
        "\n",
        "home_df = pd.merge(results_2, ranking_3, how='left', on = ['home_team', 'Year', 'month'])\n",
        "home_df.head()"
      ],
      "execution_count": 109,
      "outputs": [
        {
          "output_type": "execute_result",
          "data": {
            "text/html": [
              "<div>\n",
              "<style scoped>\n",
              "    .dataframe tbody tr th:only-of-type {\n",
              "        vertical-align: middle;\n",
              "    }\n",
              "\n",
              "    .dataframe tbody tr th {\n",
              "        vertical-align: top;\n",
              "    }\n",
              "\n",
              "    .dataframe thead th {\n",
              "        text-align: right;\n",
              "    }\n",
              "</style>\n",
              "<table border=\"1\" class=\"dataframe\">\n",
              "  <thead>\n",
              "    <tr style=\"text-align: right;\">\n",
              "      <th></th>\n",
              "      <th>date</th>\n",
              "      <th>home_team</th>\n",
              "      <th>away_team</th>\n",
              "      <th>home_score</th>\n",
              "      <th>away_score</th>\n",
              "      <th>tournament</th>\n",
              "      <th>country</th>\n",
              "      <th>neutral</th>\n",
              "      <th>Year</th>\n",
              "      <th>month</th>\n",
              "      <th>rank</th>\n",
              "      <th>confederation</th>\n",
              "      <th>rank_date</th>\n",
              "    </tr>\n",
              "  </thead>\n",
              "  <tbody>\n",
              "    <tr>\n",
              "      <th>0</th>\n",
              "      <td>1993-01-02</td>\n",
              "      <td>Gabon</td>\n",
              "      <td>Burkina Faso</td>\n",
              "      <td>1</td>\n",
              "      <td>1</td>\n",
              "      <td>Friendly</td>\n",
              "      <td>Gabon</td>\n",
              "      <td>False</td>\n",
              "      <td>1993</td>\n",
              "      <td>1</td>\n",
              "      <td>NaN</td>\n",
              "      <td>NaN</td>\n",
              "      <td>NaT</td>\n",
              "    </tr>\n",
              "    <tr>\n",
              "      <th>1</th>\n",
              "      <td>1993-01-02</td>\n",
              "      <td>Kuwait</td>\n",
              "      <td>Lebanon</td>\n",
              "      <td>2</td>\n",
              "      <td>0</td>\n",
              "      <td>Friendly</td>\n",
              "      <td>Kuwait</td>\n",
              "      <td>False</td>\n",
              "      <td>1993</td>\n",
              "      <td>1</td>\n",
              "      <td>NaN</td>\n",
              "      <td>NaN</td>\n",
              "      <td>NaT</td>\n",
              "    </tr>\n",
              "    <tr>\n",
              "      <th>2</th>\n",
              "      <td>1993-01-03</td>\n",
              "      <td>Burkina Faso</td>\n",
              "      <td>Mali</td>\n",
              "      <td>1</td>\n",
              "      <td>0</td>\n",
              "      <td>Friendly</td>\n",
              "      <td>Gabon</td>\n",
              "      <td>True</td>\n",
              "      <td>1993</td>\n",
              "      <td>1</td>\n",
              "      <td>NaN</td>\n",
              "      <td>NaN</td>\n",
              "      <td>NaT</td>\n",
              "    </tr>\n",
              "    <tr>\n",
              "      <th>3</th>\n",
              "      <td>1993-01-03</td>\n",
              "      <td>Gabon</td>\n",
              "      <td>Ghana</td>\n",
              "      <td>2</td>\n",
              "      <td>3</td>\n",
              "      <td>Friendly</td>\n",
              "      <td>Gabon</td>\n",
              "      <td>False</td>\n",
              "      <td>1993</td>\n",
              "      <td>1</td>\n",
              "      <td>NaN</td>\n",
              "      <td>NaN</td>\n",
              "      <td>NaT</td>\n",
              "    </tr>\n",
              "    <tr>\n",
              "      <th>4</th>\n",
              "      <td>1993-01-08</td>\n",
              "      <td>Uganda</td>\n",
              "      <td>Tanzania</td>\n",
              "      <td>3</td>\n",
              "      <td>1</td>\n",
              "      <td>Friendly</td>\n",
              "      <td>Uganda</td>\n",
              "      <td>False</td>\n",
              "      <td>1993</td>\n",
              "      <td>1</td>\n",
              "      <td>NaN</td>\n",
              "      <td>NaN</td>\n",
              "      <td>NaT</td>\n",
              "    </tr>\n",
              "  </tbody>\n",
              "</table>\n",
              "</div>"
            ],
            "text/plain": [
              "        date     home_team     away_team  ...  rank  confederation rank_date\n",
              "0 1993-01-02         Gabon  Burkina Faso  ...   NaN            NaN       NaT\n",
              "1 1993-01-02        Kuwait       Lebanon  ...   NaN            NaN       NaT\n",
              "2 1993-01-03  Burkina Faso          Mali  ...   NaN            NaN       NaT\n",
              "3 1993-01-03         Gabon         Ghana  ...   NaN            NaN       NaT\n",
              "4 1993-01-08        Uganda      Tanzania  ...   NaN            NaN       NaT\n",
              "\n",
              "[5 rows x 13 columns]"
            ]
          },
          "metadata": {},
          "execution_count": 109
        }
      ]
    },
    {
      "cell_type": "code",
      "metadata": {
        "id": "hm5FRYPuAQcs",
        "colab": {
          "base_uri": "https://localhost:8080/",
          "height": 308
        },
        "outputId": "f8730a20-63dd-4c4c-b781-847f53f99c24"
      },
      "source": [
        "#renaming the rank column to obtaing the home_team_rank\n",
        "\n",
        "home_df = home_df.rename({'rank': 'home_team_rank'}, axis = 1)\n",
        "home_df.head()\n"
      ],
      "execution_count": 110,
      "outputs": [
        {
          "output_type": "execute_result",
          "data": {
            "text/html": [
              "<div>\n",
              "<style scoped>\n",
              "    .dataframe tbody tr th:only-of-type {\n",
              "        vertical-align: middle;\n",
              "    }\n",
              "\n",
              "    .dataframe tbody tr th {\n",
              "        vertical-align: top;\n",
              "    }\n",
              "\n",
              "    .dataframe thead th {\n",
              "        text-align: right;\n",
              "    }\n",
              "</style>\n",
              "<table border=\"1\" class=\"dataframe\">\n",
              "  <thead>\n",
              "    <tr style=\"text-align: right;\">\n",
              "      <th></th>\n",
              "      <th>date</th>\n",
              "      <th>home_team</th>\n",
              "      <th>away_team</th>\n",
              "      <th>home_score</th>\n",
              "      <th>away_score</th>\n",
              "      <th>tournament</th>\n",
              "      <th>country</th>\n",
              "      <th>neutral</th>\n",
              "      <th>Year</th>\n",
              "      <th>month</th>\n",
              "      <th>home_team_rank</th>\n",
              "      <th>confederation</th>\n",
              "      <th>rank_date</th>\n",
              "    </tr>\n",
              "  </thead>\n",
              "  <tbody>\n",
              "    <tr>\n",
              "      <th>0</th>\n",
              "      <td>1993-01-02</td>\n",
              "      <td>Gabon</td>\n",
              "      <td>Burkina Faso</td>\n",
              "      <td>1</td>\n",
              "      <td>1</td>\n",
              "      <td>Friendly</td>\n",
              "      <td>Gabon</td>\n",
              "      <td>False</td>\n",
              "      <td>1993</td>\n",
              "      <td>1</td>\n",
              "      <td>NaN</td>\n",
              "      <td>NaN</td>\n",
              "      <td>NaT</td>\n",
              "    </tr>\n",
              "    <tr>\n",
              "      <th>1</th>\n",
              "      <td>1993-01-02</td>\n",
              "      <td>Kuwait</td>\n",
              "      <td>Lebanon</td>\n",
              "      <td>2</td>\n",
              "      <td>0</td>\n",
              "      <td>Friendly</td>\n",
              "      <td>Kuwait</td>\n",
              "      <td>False</td>\n",
              "      <td>1993</td>\n",
              "      <td>1</td>\n",
              "      <td>NaN</td>\n",
              "      <td>NaN</td>\n",
              "      <td>NaT</td>\n",
              "    </tr>\n",
              "    <tr>\n",
              "      <th>2</th>\n",
              "      <td>1993-01-03</td>\n",
              "      <td>Burkina Faso</td>\n",
              "      <td>Mali</td>\n",
              "      <td>1</td>\n",
              "      <td>0</td>\n",
              "      <td>Friendly</td>\n",
              "      <td>Gabon</td>\n",
              "      <td>True</td>\n",
              "      <td>1993</td>\n",
              "      <td>1</td>\n",
              "      <td>NaN</td>\n",
              "      <td>NaN</td>\n",
              "      <td>NaT</td>\n",
              "    </tr>\n",
              "    <tr>\n",
              "      <th>3</th>\n",
              "      <td>1993-01-03</td>\n",
              "      <td>Gabon</td>\n",
              "      <td>Ghana</td>\n",
              "      <td>2</td>\n",
              "      <td>3</td>\n",
              "      <td>Friendly</td>\n",
              "      <td>Gabon</td>\n",
              "      <td>False</td>\n",
              "      <td>1993</td>\n",
              "      <td>1</td>\n",
              "      <td>NaN</td>\n",
              "      <td>NaN</td>\n",
              "      <td>NaT</td>\n",
              "    </tr>\n",
              "    <tr>\n",
              "      <th>4</th>\n",
              "      <td>1993-01-08</td>\n",
              "      <td>Uganda</td>\n",
              "      <td>Tanzania</td>\n",
              "      <td>3</td>\n",
              "      <td>1</td>\n",
              "      <td>Friendly</td>\n",
              "      <td>Uganda</td>\n",
              "      <td>False</td>\n",
              "      <td>1993</td>\n",
              "      <td>1</td>\n",
              "      <td>NaN</td>\n",
              "      <td>NaN</td>\n",
              "      <td>NaT</td>\n",
              "    </tr>\n",
              "  </tbody>\n",
              "</table>\n",
              "</div>"
            ],
            "text/plain": [
              "        date     home_team  ... confederation  rank_date\n",
              "0 1993-01-02         Gabon  ...           NaN        NaT\n",
              "1 1993-01-02        Kuwait  ...           NaN        NaT\n",
              "2 1993-01-03  Burkina Faso  ...           NaN        NaT\n",
              "3 1993-01-03         Gabon  ...           NaN        NaT\n",
              "4 1993-01-08        Uganda  ...           NaN        NaT\n",
              "\n",
              "[5 rows x 13 columns]"
            ]
          },
          "metadata": {},
          "execution_count": 110
        }
      ]
    },
    {
      "cell_type": "code",
      "metadata": {
        "id": "4uA6ElQGDUNX",
        "colab": {
          "base_uri": "https://localhost:8080/",
          "height": 308
        },
        "outputId": "3917a11f-67b0-4195-f436-0813378c3d12"
      },
      "source": [
        "# Merging the two datasets to obtain the away_team rank dataset : home_team, year and month\n",
        "\n",
        "away_df = pd.merge(results_2, ranking_4, how='left', on = ['away_team', 'Year', 'month'])\n",
        "away_df.head()\n"
      ],
      "execution_count": 111,
      "outputs": [
        {
          "output_type": "execute_result",
          "data": {
            "text/html": [
              "<div>\n",
              "<style scoped>\n",
              "    .dataframe tbody tr th:only-of-type {\n",
              "        vertical-align: middle;\n",
              "    }\n",
              "\n",
              "    .dataframe tbody tr th {\n",
              "        vertical-align: top;\n",
              "    }\n",
              "\n",
              "    .dataframe thead th {\n",
              "        text-align: right;\n",
              "    }\n",
              "</style>\n",
              "<table border=\"1\" class=\"dataframe\">\n",
              "  <thead>\n",
              "    <tr style=\"text-align: right;\">\n",
              "      <th></th>\n",
              "      <th>date</th>\n",
              "      <th>home_team</th>\n",
              "      <th>away_team</th>\n",
              "      <th>home_score</th>\n",
              "      <th>away_score</th>\n",
              "      <th>tournament</th>\n",
              "      <th>country</th>\n",
              "      <th>neutral</th>\n",
              "      <th>Year</th>\n",
              "      <th>month</th>\n",
              "      <th>rank</th>\n",
              "      <th>confederation</th>\n",
              "      <th>rank_date</th>\n",
              "    </tr>\n",
              "  </thead>\n",
              "  <tbody>\n",
              "    <tr>\n",
              "      <th>0</th>\n",
              "      <td>1993-01-02</td>\n",
              "      <td>Gabon</td>\n",
              "      <td>Burkina Faso</td>\n",
              "      <td>1</td>\n",
              "      <td>1</td>\n",
              "      <td>Friendly</td>\n",
              "      <td>Gabon</td>\n",
              "      <td>False</td>\n",
              "      <td>1993</td>\n",
              "      <td>1</td>\n",
              "      <td>NaN</td>\n",
              "      <td>NaN</td>\n",
              "      <td>NaT</td>\n",
              "    </tr>\n",
              "    <tr>\n",
              "      <th>1</th>\n",
              "      <td>1993-01-02</td>\n",
              "      <td>Kuwait</td>\n",
              "      <td>Lebanon</td>\n",
              "      <td>2</td>\n",
              "      <td>0</td>\n",
              "      <td>Friendly</td>\n",
              "      <td>Kuwait</td>\n",
              "      <td>False</td>\n",
              "      <td>1993</td>\n",
              "      <td>1</td>\n",
              "      <td>NaN</td>\n",
              "      <td>NaN</td>\n",
              "      <td>NaT</td>\n",
              "    </tr>\n",
              "    <tr>\n",
              "      <th>2</th>\n",
              "      <td>1993-01-03</td>\n",
              "      <td>Burkina Faso</td>\n",
              "      <td>Mali</td>\n",
              "      <td>1</td>\n",
              "      <td>0</td>\n",
              "      <td>Friendly</td>\n",
              "      <td>Gabon</td>\n",
              "      <td>True</td>\n",
              "      <td>1993</td>\n",
              "      <td>1</td>\n",
              "      <td>NaN</td>\n",
              "      <td>NaN</td>\n",
              "      <td>NaT</td>\n",
              "    </tr>\n",
              "    <tr>\n",
              "      <th>3</th>\n",
              "      <td>1993-01-03</td>\n",
              "      <td>Gabon</td>\n",
              "      <td>Ghana</td>\n",
              "      <td>2</td>\n",
              "      <td>3</td>\n",
              "      <td>Friendly</td>\n",
              "      <td>Gabon</td>\n",
              "      <td>False</td>\n",
              "      <td>1993</td>\n",
              "      <td>1</td>\n",
              "      <td>NaN</td>\n",
              "      <td>NaN</td>\n",
              "      <td>NaT</td>\n",
              "    </tr>\n",
              "    <tr>\n",
              "      <th>4</th>\n",
              "      <td>1993-01-08</td>\n",
              "      <td>Uganda</td>\n",
              "      <td>Tanzania</td>\n",
              "      <td>3</td>\n",
              "      <td>1</td>\n",
              "      <td>Friendly</td>\n",
              "      <td>Uganda</td>\n",
              "      <td>False</td>\n",
              "      <td>1993</td>\n",
              "      <td>1</td>\n",
              "      <td>NaN</td>\n",
              "      <td>NaN</td>\n",
              "      <td>NaT</td>\n",
              "    </tr>\n",
              "  </tbody>\n",
              "</table>\n",
              "</div>"
            ],
            "text/plain": [
              "        date     home_team     away_team  ...  rank  confederation rank_date\n",
              "0 1993-01-02         Gabon  Burkina Faso  ...   NaN            NaN       NaT\n",
              "1 1993-01-02        Kuwait       Lebanon  ...   NaN            NaN       NaT\n",
              "2 1993-01-03  Burkina Faso          Mali  ...   NaN            NaN       NaT\n",
              "3 1993-01-03         Gabon         Ghana  ...   NaN            NaN       NaT\n",
              "4 1993-01-08        Uganda      Tanzania  ...   NaN            NaN       NaT\n",
              "\n",
              "[5 rows x 13 columns]"
            ]
          },
          "metadata": {},
          "execution_count": 111
        }
      ]
    },
    {
      "cell_type": "code",
      "metadata": {
        "id": "GXWmel_rDsYo",
        "colab": {
          "base_uri": "https://localhost:8080/",
          "height": 308
        },
        "outputId": "71f1a378-aed2-4f36-8e1f-5f8ee7e377b3"
      },
      "source": [
        "#renaming the rank column to obtaing the away_team_rank\n",
        "\n",
        "away_df = away_df.rename({'rank': 'away_team_rank'}, axis = 1)\n",
        "away_df.head()"
      ],
      "execution_count": 112,
      "outputs": [
        {
          "output_type": "execute_result",
          "data": {
            "text/html": [
              "<div>\n",
              "<style scoped>\n",
              "    .dataframe tbody tr th:only-of-type {\n",
              "        vertical-align: middle;\n",
              "    }\n",
              "\n",
              "    .dataframe tbody tr th {\n",
              "        vertical-align: top;\n",
              "    }\n",
              "\n",
              "    .dataframe thead th {\n",
              "        text-align: right;\n",
              "    }\n",
              "</style>\n",
              "<table border=\"1\" class=\"dataframe\">\n",
              "  <thead>\n",
              "    <tr style=\"text-align: right;\">\n",
              "      <th></th>\n",
              "      <th>date</th>\n",
              "      <th>home_team</th>\n",
              "      <th>away_team</th>\n",
              "      <th>home_score</th>\n",
              "      <th>away_score</th>\n",
              "      <th>tournament</th>\n",
              "      <th>country</th>\n",
              "      <th>neutral</th>\n",
              "      <th>Year</th>\n",
              "      <th>month</th>\n",
              "      <th>away_team_rank</th>\n",
              "      <th>confederation</th>\n",
              "      <th>rank_date</th>\n",
              "    </tr>\n",
              "  </thead>\n",
              "  <tbody>\n",
              "    <tr>\n",
              "      <th>0</th>\n",
              "      <td>1993-01-02</td>\n",
              "      <td>Gabon</td>\n",
              "      <td>Burkina Faso</td>\n",
              "      <td>1</td>\n",
              "      <td>1</td>\n",
              "      <td>Friendly</td>\n",
              "      <td>Gabon</td>\n",
              "      <td>False</td>\n",
              "      <td>1993</td>\n",
              "      <td>1</td>\n",
              "      <td>NaN</td>\n",
              "      <td>NaN</td>\n",
              "      <td>NaT</td>\n",
              "    </tr>\n",
              "    <tr>\n",
              "      <th>1</th>\n",
              "      <td>1993-01-02</td>\n",
              "      <td>Kuwait</td>\n",
              "      <td>Lebanon</td>\n",
              "      <td>2</td>\n",
              "      <td>0</td>\n",
              "      <td>Friendly</td>\n",
              "      <td>Kuwait</td>\n",
              "      <td>False</td>\n",
              "      <td>1993</td>\n",
              "      <td>1</td>\n",
              "      <td>NaN</td>\n",
              "      <td>NaN</td>\n",
              "      <td>NaT</td>\n",
              "    </tr>\n",
              "    <tr>\n",
              "      <th>2</th>\n",
              "      <td>1993-01-03</td>\n",
              "      <td>Burkina Faso</td>\n",
              "      <td>Mali</td>\n",
              "      <td>1</td>\n",
              "      <td>0</td>\n",
              "      <td>Friendly</td>\n",
              "      <td>Gabon</td>\n",
              "      <td>True</td>\n",
              "      <td>1993</td>\n",
              "      <td>1</td>\n",
              "      <td>NaN</td>\n",
              "      <td>NaN</td>\n",
              "      <td>NaT</td>\n",
              "    </tr>\n",
              "    <tr>\n",
              "      <th>3</th>\n",
              "      <td>1993-01-03</td>\n",
              "      <td>Gabon</td>\n",
              "      <td>Ghana</td>\n",
              "      <td>2</td>\n",
              "      <td>3</td>\n",
              "      <td>Friendly</td>\n",
              "      <td>Gabon</td>\n",
              "      <td>False</td>\n",
              "      <td>1993</td>\n",
              "      <td>1</td>\n",
              "      <td>NaN</td>\n",
              "      <td>NaN</td>\n",
              "      <td>NaT</td>\n",
              "    </tr>\n",
              "    <tr>\n",
              "      <th>4</th>\n",
              "      <td>1993-01-08</td>\n",
              "      <td>Uganda</td>\n",
              "      <td>Tanzania</td>\n",
              "      <td>3</td>\n",
              "      <td>1</td>\n",
              "      <td>Friendly</td>\n",
              "      <td>Uganda</td>\n",
              "      <td>False</td>\n",
              "      <td>1993</td>\n",
              "      <td>1</td>\n",
              "      <td>NaN</td>\n",
              "      <td>NaN</td>\n",
              "      <td>NaT</td>\n",
              "    </tr>\n",
              "  </tbody>\n",
              "</table>\n",
              "</div>"
            ],
            "text/plain": [
              "        date     home_team  ... confederation  rank_date\n",
              "0 1993-01-02         Gabon  ...           NaN        NaT\n",
              "1 1993-01-02        Kuwait  ...           NaN        NaT\n",
              "2 1993-01-03  Burkina Faso  ...           NaN        NaT\n",
              "3 1993-01-03         Gabon  ...           NaN        NaT\n",
              "4 1993-01-08        Uganda  ...           NaN        NaT\n",
              "\n",
              "[5 rows x 13 columns]"
            ]
          },
          "metadata": {},
          "execution_count": 112
        }
      ]
    },
    {
      "cell_type": "code",
      "metadata": {
        "id": "lRzqg7WkD9GS",
        "colab": {
          "base_uri": "https://localhost:8080/"
        },
        "outputId": "7b9253e3-ba89-4aa4-9ef5-459cc66bea87"
      },
      "source": [
        "#obtaining the final dataset for modelling\n",
        "\n",
        "final_df = pd.merge(home_df, away_df, how = 'inner', left_on = ['Year', 'month','away_team'], right_on = ['Year', 'month','away_team'])\n",
        "print(final_df)\n",
        "print('\\n\\n',final_df.shape)\n"
      ],
      "execution_count": 113,
      "outputs": [
        {
          "output_type": "stream",
          "name": "stdout",
          "text": [
            "          date_x      home_team_x  ... confederation_y  rank_date_y\n",
            "0     1993-01-02            Gabon  ...             NaN          NaT\n",
            "1     1993-01-02           Kuwait  ...             NaN          NaT\n",
            "2     1993-01-03     Burkina Faso  ...             NaN          NaT\n",
            "3     1993-01-03            Gabon  ...             NaN          NaT\n",
            "4     1993-01-08           Uganda  ...             NaN          NaT\n",
            "...          ...              ...  ...             ...          ...\n",
            "41344 2019-07-14          Algeria  ...             NaN          NaT\n",
            "41345 2019-07-14          Algeria  ...             NaN          NaT\n",
            "41346 2019-07-17          Tunisia  ...             NaN          NaT\n",
            "41347 2019-07-17          Tunisia  ...             NaN          NaT\n",
            "41348 2019-07-15  Solomon Islands  ...             NaN          NaT\n",
            "\n",
            "[41349 rows x 23 columns]\n",
            "\n",
            "\n",
            " (41349, 23)\n"
          ]
        }
      ]
    },
    {
      "cell_type": "code",
      "metadata": {
        "id": "tiTB71xuVr9Q",
        "colab": {
          "base_uri": "https://localhost:8080/"
        },
        "outputId": "6710889e-1a85-4381-9121-688631a4d65e"
      },
      "source": [
        "#obtaining information and corresponding datatypes of the merged dataset\n",
        "\n",
        "final_df.info()"
      ],
      "execution_count": 114,
      "outputs": [
        {
          "output_type": "stream",
          "name": "stdout",
          "text": [
            "<class 'pandas.core.frame.DataFrame'>\n",
            "Int64Index: 41349 entries, 0 to 41348\n",
            "Data columns (total 23 columns):\n",
            " #   Column           Non-Null Count  Dtype         \n",
            "---  ------           --------------  -----         \n",
            " 0   date_x           41349 non-null  datetime64[ns]\n",
            " 1   home_team_x      41349 non-null  object        \n",
            " 2   away_team        41349 non-null  object        \n",
            " 3   home_score_x     41349 non-null  int64         \n",
            " 4   away_score_x     41349 non-null  int64         \n",
            " 5   tournament_x     41349 non-null  object        \n",
            " 6   country_x        41349 non-null  object        \n",
            " 7   neutral_x        41349 non-null  bool          \n",
            " 8   Year             41349 non-null  int64         \n",
            " 9   month            41349 non-null  int64         \n",
            " 10  home_team_rank   31675 non-null  float64       \n",
            " 11  confederation_x  31675 non-null  object        \n",
            " 12  rank_date_x      31675 non-null  datetime64[ns]\n",
            " 13  date_y           41349 non-null  datetime64[ns]\n",
            " 14  home_team_y      41349 non-null  object        \n",
            " 15  home_score_y     41349 non-null  int64         \n",
            " 16  away_score_y     41349 non-null  int64         \n",
            " 17  tournament_y     41349 non-null  object        \n",
            " 18  country_y        41349 non-null  object        \n",
            " 19  neutral_y        41349 non-null  bool          \n",
            " 20  away_team_rank   31452 non-null  float64       \n",
            " 21  confederation_y  31452 non-null  object        \n",
            " 22  rank_date_y      31452 non-null  datetime64[ns]\n",
            "dtypes: bool(2), datetime64[ns](4), float64(2), int64(6), object(9)\n",
            "memory usage: 7.0+ MB\n"
          ]
        }
      ]
    },
    {
      "cell_type": "markdown",
      "metadata": {
        "id": "FlBMxEDBUc9B"
      },
      "source": [
        "# 5. Tidying the Dataset"
      ]
    },
    {
      "cell_type": "code",
      "metadata": {
        "id": "5o_bQcT5W3Wz",
        "colab": {
          "base_uri": "https://localhost:8080/"
        },
        "outputId": "cfd7dcc2-1a68-4e90-d895-e8083fdad621"
      },
      "source": [
        "# Identifying the Missing Data\n",
        "\n",
        "final_df.isnull().sum()\n",
        "\n",
        "#there are 9897 missing records in three columns(rank, confederation and rank_date)"
      ],
      "execution_count": 115,
      "outputs": [
        {
          "output_type": "execute_result",
          "data": {
            "text/plain": [
              "date_x                0\n",
              "home_team_x           0\n",
              "away_team             0\n",
              "home_score_x          0\n",
              "away_score_x          0\n",
              "tournament_x          0\n",
              "country_x             0\n",
              "neutral_x             0\n",
              "Year                  0\n",
              "month                 0\n",
              "home_team_rank     9674\n",
              "confederation_x    9674\n",
              "rank_date_x        9674\n",
              "date_y                0\n",
              "home_team_y           0\n",
              "home_score_y          0\n",
              "away_score_y          0\n",
              "tournament_y          0\n",
              "country_y             0\n",
              "neutral_y             0\n",
              "away_team_rank     9897\n",
              "confederation_y    9897\n",
              "rank_date_y        9897\n",
              "dtype: int64"
            ]
          },
          "metadata": {},
          "execution_count": 115
        }
      ]
    },
    {
      "cell_type": "code",
      "metadata": {
        "id": "cks8azcQHHrr",
        "colab": {
          "base_uri": "https://localhost:8080/"
        },
        "outputId": "5349b192-455d-4946-d61f-8d9eff713aca"
      },
      "source": [
        "# Dealing with the Missing Data\n",
        "\n",
        "final_df1 = final_df.dropna()\n",
        "final_df1.isnull().sum()\n",
        "\n",
        "#dropped the [ 41349-28439 = 12910 ]null values\n",
        "\n",
        "final_df1.shape"
      ],
      "execution_count": 116,
      "outputs": [
        {
          "output_type": "execute_result",
          "data": {
            "text/plain": [
              "(28439, 23)"
            ]
          },
          "metadata": {},
          "execution_count": 116
        }
      ]
    },
    {
      "cell_type": "code",
      "metadata": {
        "id": "AEquAgogInM7",
        "colab": {
          "base_uri": "https://localhost:8080/",
          "height": 393
        },
        "outputId": "3f8046c4-b916-4d5d-e321-fcc5e6c2572f"
      },
      "source": [
        "#previewing the data\n",
        "\n",
        "final_df1.head()"
      ],
      "execution_count": 117,
      "outputs": [
        {
          "output_type": "execute_result",
          "data": {
            "text/html": [
              "<div>\n",
              "<style scoped>\n",
              "    .dataframe tbody tr th:only-of-type {\n",
              "        vertical-align: middle;\n",
              "    }\n",
              "\n",
              "    .dataframe tbody tr th {\n",
              "        vertical-align: top;\n",
              "    }\n",
              "\n",
              "    .dataframe thead th {\n",
              "        text-align: right;\n",
              "    }\n",
              "</style>\n",
              "<table border=\"1\" class=\"dataframe\">\n",
              "  <thead>\n",
              "    <tr style=\"text-align: right;\">\n",
              "      <th></th>\n",
              "      <th>date_x</th>\n",
              "      <th>home_team_x</th>\n",
              "      <th>away_team</th>\n",
              "      <th>home_score_x</th>\n",
              "      <th>away_score_x</th>\n",
              "      <th>tournament_x</th>\n",
              "      <th>country_x</th>\n",
              "      <th>neutral_x</th>\n",
              "      <th>Year</th>\n",
              "      <th>month</th>\n",
              "      <th>home_team_rank</th>\n",
              "      <th>confederation_x</th>\n",
              "      <th>rank_date_x</th>\n",
              "      <th>date_y</th>\n",
              "      <th>home_team_y</th>\n",
              "      <th>home_score_y</th>\n",
              "      <th>away_score_y</th>\n",
              "      <th>tournament_y</th>\n",
              "      <th>country_y</th>\n",
              "      <th>neutral_y</th>\n",
              "      <th>away_team_rank</th>\n",
              "      <th>confederation_y</th>\n",
              "      <th>rank_date_y</th>\n",
              "    </tr>\n",
              "  </thead>\n",
              "  <tbody>\n",
              "    <tr>\n",
              "      <th>1224</th>\n",
              "      <td>1993-08-01</td>\n",
              "      <td>Colombia</td>\n",
              "      <td>Paraguay</td>\n",
              "      <td>0</td>\n",
              "      <td>0</td>\n",
              "      <td>FIFA World Cup qualification</td>\n",
              "      <td>Colombia</td>\n",
              "      <td>False</td>\n",
              "      <td>1993</td>\n",
              "      <td>8</td>\n",
              "      <td>19.0</td>\n",
              "      <td>CONMEBOL</td>\n",
              "      <td>1993-08-08</td>\n",
              "      <td>1993-08-01</td>\n",
              "      <td>Colombia</td>\n",
              "      <td>0</td>\n",
              "      <td>0</td>\n",
              "      <td>FIFA World Cup qualification</td>\n",
              "      <td>Colombia</td>\n",
              "      <td>False</td>\n",
              "      <td>67.0</td>\n",
              "      <td>CONMEBOL</td>\n",
              "      <td>1993-08-08</td>\n",
              "    </tr>\n",
              "    <tr>\n",
              "      <th>1225</th>\n",
              "      <td>1993-08-01</td>\n",
              "      <td>Colombia</td>\n",
              "      <td>Paraguay</td>\n",
              "      <td>0</td>\n",
              "      <td>0</td>\n",
              "      <td>FIFA World Cup qualification</td>\n",
              "      <td>Colombia</td>\n",
              "      <td>False</td>\n",
              "      <td>1993</td>\n",
              "      <td>8</td>\n",
              "      <td>19.0</td>\n",
              "      <td>CONMEBOL</td>\n",
              "      <td>1993-08-08</td>\n",
              "      <td>1993-08-29</td>\n",
              "      <td>Argentina</td>\n",
              "      <td>0</td>\n",
              "      <td>0</td>\n",
              "      <td>FIFA World Cup qualification</td>\n",
              "      <td>Argentina</td>\n",
              "      <td>False</td>\n",
              "      <td>67.0</td>\n",
              "      <td>CONMEBOL</td>\n",
              "      <td>1993-08-08</td>\n",
              "    </tr>\n",
              "    <tr>\n",
              "      <th>1226</th>\n",
              "      <td>1993-08-29</td>\n",
              "      <td>Argentina</td>\n",
              "      <td>Paraguay</td>\n",
              "      <td>0</td>\n",
              "      <td>0</td>\n",
              "      <td>FIFA World Cup qualification</td>\n",
              "      <td>Argentina</td>\n",
              "      <td>False</td>\n",
              "      <td>1993</td>\n",
              "      <td>8</td>\n",
              "      <td>5.0</td>\n",
              "      <td>CONMEBOL</td>\n",
              "      <td>1993-08-08</td>\n",
              "      <td>1993-08-01</td>\n",
              "      <td>Colombia</td>\n",
              "      <td>0</td>\n",
              "      <td>0</td>\n",
              "      <td>FIFA World Cup qualification</td>\n",
              "      <td>Colombia</td>\n",
              "      <td>False</td>\n",
              "      <td>67.0</td>\n",
              "      <td>CONMEBOL</td>\n",
              "      <td>1993-08-08</td>\n",
              "    </tr>\n",
              "    <tr>\n",
              "      <th>1227</th>\n",
              "      <td>1993-08-29</td>\n",
              "      <td>Argentina</td>\n",
              "      <td>Paraguay</td>\n",
              "      <td>0</td>\n",
              "      <td>0</td>\n",
              "      <td>FIFA World Cup qualification</td>\n",
              "      <td>Argentina</td>\n",
              "      <td>False</td>\n",
              "      <td>1993</td>\n",
              "      <td>8</td>\n",
              "      <td>5.0</td>\n",
              "      <td>CONMEBOL</td>\n",
              "      <td>1993-08-08</td>\n",
              "      <td>1993-08-29</td>\n",
              "      <td>Argentina</td>\n",
              "      <td>0</td>\n",
              "      <td>0</td>\n",
              "      <td>FIFA World Cup qualification</td>\n",
              "      <td>Argentina</td>\n",
              "      <td>False</td>\n",
              "      <td>67.0</td>\n",
              "      <td>CONMEBOL</td>\n",
              "      <td>1993-08-08</td>\n",
              "    </tr>\n",
              "    <tr>\n",
              "      <th>1228</th>\n",
              "      <td>1993-08-01</td>\n",
              "      <td>Peru</td>\n",
              "      <td>Argentina</td>\n",
              "      <td>0</td>\n",
              "      <td>1</td>\n",
              "      <td>FIFA World Cup qualification</td>\n",
              "      <td>Peru</td>\n",
              "      <td>False</td>\n",
              "      <td>1993</td>\n",
              "      <td>8</td>\n",
              "      <td>70.0</td>\n",
              "      <td>CONMEBOL</td>\n",
              "      <td>1993-08-08</td>\n",
              "      <td>1993-08-01</td>\n",
              "      <td>Peru</td>\n",
              "      <td>0</td>\n",
              "      <td>1</td>\n",
              "      <td>FIFA World Cup qualification</td>\n",
              "      <td>Peru</td>\n",
              "      <td>False</td>\n",
              "      <td>5.0</td>\n",
              "      <td>CONMEBOL</td>\n",
              "      <td>1993-08-08</td>\n",
              "    </tr>\n",
              "  </tbody>\n",
              "</table>\n",
              "</div>"
            ],
            "text/plain": [
              "         date_x home_team_x  ... confederation_y  rank_date_y\n",
              "1224 1993-08-01    Colombia  ...        CONMEBOL   1993-08-08\n",
              "1225 1993-08-01    Colombia  ...        CONMEBOL   1993-08-08\n",
              "1226 1993-08-29   Argentina  ...        CONMEBOL   1993-08-08\n",
              "1227 1993-08-29   Argentina  ...        CONMEBOL   1993-08-08\n",
              "1228 1993-08-01        Peru  ...        CONMEBOL   1993-08-08\n",
              "\n",
              "[5 rows x 23 columns]"
            ]
          },
          "metadata": {},
          "execution_count": 117
        }
      ]
    },
    {
      "cell_type": "code",
      "metadata": {
        "id": "PWlukLKUvFQN",
        "colab": {
          "base_uri": "https://localhost:8080/"
        },
        "outputId": "14878506-af35-4dd5-861a-b349bf640eb8"
      },
      "source": [
        "# Checking the columns\n",
        "\n",
        "final_df1.columns"
      ],
      "execution_count": 118,
      "outputs": [
        {
          "output_type": "execute_result",
          "data": {
            "text/plain": [
              "Index(['date_x', 'home_team_x', 'away_team', 'home_score_x', 'away_score_x',\n",
              "       'tournament_x', 'country_x', 'neutral_x', 'Year', 'month',\n",
              "       'home_team_rank', 'confederation_x', 'rank_date_x', 'date_y',\n",
              "       'home_team_y', 'home_score_y', 'away_score_y', 'tournament_y',\n",
              "       'country_y', 'neutral_y', 'away_team_rank', 'confederation_y',\n",
              "       'rank_date_y'],\n",
              "      dtype='object')"
            ]
          },
          "metadata": {},
          "execution_count": 118
        }
      ]
    },
    {
      "cell_type": "code",
      "metadata": {
        "id": "BU6_JluQKoLe",
        "colab": {
          "base_uri": "https://localhost:8080/",
          "height": 393
        },
        "outputId": "6a1c2707-79a7-434d-d0fc-eff89e38af74"
      },
      "source": [
        "#dropping irrelevant columns\n",
        "\n",
        "final_df2 = final_df1.drop(['date_y','home_team_y', 'home_score_y', 'away_score_y', 'tournament_y',\n",
        "       'country_y', 'neutral_y', 'confederation_y', 'rank_date_y','date_x','confederation_x','rank_date_x'], axis=1)\n",
        "final_df2.head()"
      ],
      "execution_count": 119,
      "outputs": [
        {
          "output_type": "execute_result",
          "data": {
            "text/html": [
              "<div>\n",
              "<style scoped>\n",
              "    .dataframe tbody tr th:only-of-type {\n",
              "        vertical-align: middle;\n",
              "    }\n",
              "\n",
              "    .dataframe tbody tr th {\n",
              "        vertical-align: top;\n",
              "    }\n",
              "\n",
              "    .dataframe thead th {\n",
              "        text-align: right;\n",
              "    }\n",
              "</style>\n",
              "<table border=\"1\" class=\"dataframe\">\n",
              "  <thead>\n",
              "    <tr style=\"text-align: right;\">\n",
              "      <th></th>\n",
              "      <th>home_team_x</th>\n",
              "      <th>away_team</th>\n",
              "      <th>home_score_x</th>\n",
              "      <th>away_score_x</th>\n",
              "      <th>tournament_x</th>\n",
              "      <th>country_x</th>\n",
              "      <th>neutral_x</th>\n",
              "      <th>Year</th>\n",
              "      <th>month</th>\n",
              "      <th>home_team_rank</th>\n",
              "      <th>away_team_rank</th>\n",
              "    </tr>\n",
              "  </thead>\n",
              "  <tbody>\n",
              "    <tr>\n",
              "      <th>1224</th>\n",
              "      <td>Colombia</td>\n",
              "      <td>Paraguay</td>\n",
              "      <td>0</td>\n",
              "      <td>0</td>\n",
              "      <td>FIFA World Cup qualification</td>\n",
              "      <td>Colombia</td>\n",
              "      <td>False</td>\n",
              "      <td>1993</td>\n",
              "      <td>8</td>\n",
              "      <td>19.0</td>\n",
              "      <td>67.0</td>\n",
              "    </tr>\n",
              "    <tr>\n",
              "      <th>1225</th>\n",
              "      <td>Colombia</td>\n",
              "      <td>Paraguay</td>\n",
              "      <td>0</td>\n",
              "      <td>0</td>\n",
              "      <td>FIFA World Cup qualification</td>\n",
              "      <td>Colombia</td>\n",
              "      <td>False</td>\n",
              "      <td>1993</td>\n",
              "      <td>8</td>\n",
              "      <td>19.0</td>\n",
              "      <td>67.0</td>\n",
              "    </tr>\n",
              "    <tr>\n",
              "      <th>1226</th>\n",
              "      <td>Argentina</td>\n",
              "      <td>Paraguay</td>\n",
              "      <td>0</td>\n",
              "      <td>0</td>\n",
              "      <td>FIFA World Cup qualification</td>\n",
              "      <td>Argentina</td>\n",
              "      <td>False</td>\n",
              "      <td>1993</td>\n",
              "      <td>8</td>\n",
              "      <td>5.0</td>\n",
              "      <td>67.0</td>\n",
              "    </tr>\n",
              "    <tr>\n",
              "      <th>1227</th>\n",
              "      <td>Argentina</td>\n",
              "      <td>Paraguay</td>\n",
              "      <td>0</td>\n",
              "      <td>0</td>\n",
              "      <td>FIFA World Cup qualification</td>\n",
              "      <td>Argentina</td>\n",
              "      <td>False</td>\n",
              "      <td>1993</td>\n",
              "      <td>8</td>\n",
              "      <td>5.0</td>\n",
              "      <td>67.0</td>\n",
              "    </tr>\n",
              "    <tr>\n",
              "      <th>1228</th>\n",
              "      <td>Peru</td>\n",
              "      <td>Argentina</td>\n",
              "      <td>0</td>\n",
              "      <td>1</td>\n",
              "      <td>FIFA World Cup qualification</td>\n",
              "      <td>Peru</td>\n",
              "      <td>False</td>\n",
              "      <td>1993</td>\n",
              "      <td>8</td>\n",
              "      <td>70.0</td>\n",
              "      <td>5.0</td>\n",
              "    </tr>\n",
              "  </tbody>\n",
              "</table>\n",
              "</div>"
            ],
            "text/plain": [
              "     home_team_x  away_team  ...  home_team_rank  away_team_rank\n",
              "1224    Colombia   Paraguay  ...            19.0            67.0\n",
              "1225    Colombia   Paraguay  ...            19.0            67.0\n",
              "1226   Argentina   Paraguay  ...             5.0            67.0\n",
              "1227   Argentina   Paraguay  ...             5.0            67.0\n",
              "1228        Peru  Argentina  ...            70.0             5.0\n",
              "\n",
              "[5 rows x 11 columns]"
            ]
          },
          "metadata": {},
          "execution_count": 119
        }
      ]
    },
    {
      "cell_type": "code",
      "metadata": {
        "id": "_J3gsIpZLXiq",
        "colab": {
          "base_uri": "https://localhost:8080/",
          "height": 393
        },
        "outputId": "1f00954b-bf7c-4643-a771-4d46d608173f"
      },
      "source": [
        "#creating a copy\n",
        "\n",
        "final_df3 = final_df2\n",
        "\n",
        "#making the columns uniform by renaming the column names and changing them to uppercase\n",
        "\n",
        "final_df3.rename(columns={'home_team_x':'HOME_TEAM','away_team':'AWAY_TEAM','neutral_x':'NEUTRAL','home_score_x':'HOME_SCORE','away_score_x':'AWAY_SCORE','tournament_x':'TOURNAMENT','country_x':'COUNTRY','Year':'YEAR','month':'MONTH','home_team_rank':'HOME_TEAM_RANK','confederation_x':'CONFEDERATION','away_team_rank':'AWAY_TEAM_RANK'}, inplace=True)\n",
        "final_df3.head()\n"
      ],
      "execution_count": 120,
      "outputs": [
        {
          "output_type": "execute_result",
          "data": {
            "text/html": [
              "<div>\n",
              "<style scoped>\n",
              "    .dataframe tbody tr th:only-of-type {\n",
              "        vertical-align: middle;\n",
              "    }\n",
              "\n",
              "    .dataframe tbody tr th {\n",
              "        vertical-align: top;\n",
              "    }\n",
              "\n",
              "    .dataframe thead th {\n",
              "        text-align: right;\n",
              "    }\n",
              "</style>\n",
              "<table border=\"1\" class=\"dataframe\">\n",
              "  <thead>\n",
              "    <tr style=\"text-align: right;\">\n",
              "      <th></th>\n",
              "      <th>HOME_TEAM</th>\n",
              "      <th>AWAY_TEAM</th>\n",
              "      <th>HOME_SCORE</th>\n",
              "      <th>AWAY_SCORE</th>\n",
              "      <th>TOURNAMENT</th>\n",
              "      <th>COUNTRY</th>\n",
              "      <th>NEUTRAL</th>\n",
              "      <th>YEAR</th>\n",
              "      <th>MONTH</th>\n",
              "      <th>HOME_TEAM_RANK</th>\n",
              "      <th>AWAY_TEAM_RANK</th>\n",
              "    </tr>\n",
              "  </thead>\n",
              "  <tbody>\n",
              "    <tr>\n",
              "      <th>1224</th>\n",
              "      <td>Colombia</td>\n",
              "      <td>Paraguay</td>\n",
              "      <td>0</td>\n",
              "      <td>0</td>\n",
              "      <td>FIFA World Cup qualification</td>\n",
              "      <td>Colombia</td>\n",
              "      <td>False</td>\n",
              "      <td>1993</td>\n",
              "      <td>8</td>\n",
              "      <td>19.0</td>\n",
              "      <td>67.0</td>\n",
              "    </tr>\n",
              "    <tr>\n",
              "      <th>1225</th>\n",
              "      <td>Colombia</td>\n",
              "      <td>Paraguay</td>\n",
              "      <td>0</td>\n",
              "      <td>0</td>\n",
              "      <td>FIFA World Cup qualification</td>\n",
              "      <td>Colombia</td>\n",
              "      <td>False</td>\n",
              "      <td>1993</td>\n",
              "      <td>8</td>\n",
              "      <td>19.0</td>\n",
              "      <td>67.0</td>\n",
              "    </tr>\n",
              "    <tr>\n",
              "      <th>1226</th>\n",
              "      <td>Argentina</td>\n",
              "      <td>Paraguay</td>\n",
              "      <td>0</td>\n",
              "      <td>0</td>\n",
              "      <td>FIFA World Cup qualification</td>\n",
              "      <td>Argentina</td>\n",
              "      <td>False</td>\n",
              "      <td>1993</td>\n",
              "      <td>8</td>\n",
              "      <td>5.0</td>\n",
              "      <td>67.0</td>\n",
              "    </tr>\n",
              "    <tr>\n",
              "      <th>1227</th>\n",
              "      <td>Argentina</td>\n",
              "      <td>Paraguay</td>\n",
              "      <td>0</td>\n",
              "      <td>0</td>\n",
              "      <td>FIFA World Cup qualification</td>\n",
              "      <td>Argentina</td>\n",
              "      <td>False</td>\n",
              "      <td>1993</td>\n",
              "      <td>8</td>\n",
              "      <td>5.0</td>\n",
              "      <td>67.0</td>\n",
              "    </tr>\n",
              "    <tr>\n",
              "      <th>1228</th>\n",
              "      <td>Peru</td>\n",
              "      <td>Argentina</td>\n",
              "      <td>0</td>\n",
              "      <td>1</td>\n",
              "      <td>FIFA World Cup qualification</td>\n",
              "      <td>Peru</td>\n",
              "      <td>False</td>\n",
              "      <td>1993</td>\n",
              "      <td>8</td>\n",
              "      <td>70.0</td>\n",
              "      <td>5.0</td>\n",
              "    </tr>\n",
              "  </tbody>\n",
              "</table>\n",
              "</div>"
            ],
            "text/plain": [
              "      HOME_TEAM  AWAY_TEAM  HOME_SCORE  ...  MONTH HOME_TEAM_RANK AWAY_TEAM_RANK\n",
              "1224   Colombia   Paraguay           0  ...      8           19.0           67.0\n",
              "1225   Colombia   Paraguay           0  ...      8           19.0           67.0\n",
              "1226  Argentina   Paraguay           0  ...      8            5.0           67.0\n",
              "1227  Argentina   Paraguay           0  ...      8            5.0           67.0\n",
              "1228       Peru  Argentina           0  ...      8           70.0            5.0\n",
              "\n",
              "[5 rows x 11 columns]"
            ]
          },
          "metadata": {},
          "execution_count": 120
        }
      ]
    },
    {
      "cell_type": "code",
      "metadata": {
        "id": "8kOSBi1jTEqb",
        "colab": {
          "base_uri": "https://localhost:8080/"
        },
        "outputId": "ebeb4242-3f9c-4d0d-9da3-8f8ac37ca6e9"
      },
      "source": [
        "#checking the dimensions of the resultant dataset\n",
        "\n",
        "final_df3.shape"
      ],
      "execution_count": 121,
      "outputs": [
        {
          "output_type": "execute_result",
          "data": {
            "text/plain": [
              "(28439, 11)"
            ]
          },
          "metadata": {},
          "execution_count": 121
        }
      ]
    },
    {
      "cell_type": "code",
      "metadata": {
        "id": "MpsDGKZHsf_W",
        "colab": {
          "base_uri": "https://localhost:8080/"
        },
        "outputId": "43c8418d-42cd-48df-9ed7-f1cda911647f"
      },
      "source": [
        "#checking the unique values in the tournament column\n",
        "#we need to have 3: FIFA worldcup,Friendly and others\n",
        "\n",
        "final_df3.TOURNAMENT.unique()"
      ],
      "execution_count": 122,
      "outputs": [
        {
          "output_type": "execute_result",
          "data": {
            "text/plain": [
              "array(['FIFA World Cup qualification', 'Friendly',\n",
              "       'African Cup of Nations qualification', 'Amílcar Cabral Cup',\n",
              "       'United Arab Emirates Friendship Tournament',\n",
              "       'Malta International Tournament',\n",
              "       'CFU Caribbean Cup qualification', 'African Cup of Nations',\n",
              "       'CFU Caribbean Cup', 'UEFA Euro qualification', 'Kirin Cup',\n",
              "       'FIFA World Cup', 'Oceania Nations Cup qualification',\n",
              "       'Baltic Cup', 'Gulf Cup', 'Simba Tournament', 'CECAFA Cup',\n",
              "       'Dynasty Cup', \"King's Cup\", 'SAFF Cup', 'Copa Paz del Chaco',\n",
              "       'Korea Cup', 'USA Cup', 'Copa América', 'Merdeka Tournament',\n",
              "       'South Pacific Games', 'UNCAF Cup', 'Oceania Nations Cup',\n",
              "       'Windward Islands Tournament', 'Gold Cup',\n",
              "       'AFC Asian Cup qualification', 'Lunar New Year Cup',\n",
              "       'AFF Championship', 'AFC Asian Cup', 'King Hassan II Tournament',\n",
              "       'Dunhill Cup', 'Cyprus International Tournament', 'Nehru Cup',\n",
              "       'COSAFA Cup', 'Tournoi de France', 'Confederations Cup',\n",
              "       'UAFA Cup', 'Gold Cup qualification', 'UNIFFAC Cup',\n",
              "       'Nordic Championship', 'WAFF Championship', 'UEFA Euro',\n",
              "       'Millennium Cup', \"Prime Minister's Cup\", 'SKN Football Festival',\n",
              "       'EAFF Championship', 'AFC Challenge Cup', 'Copa del Pacífico',\n",
              "       'UAFA Cup qualification', 'AFC Challenge Cup qualification',\n",
              "       'African Nations Championship', 'VFF Cup', 'Dragon Cup',\n",
              "       'Nile Basin Tournament', 'Nations Cup', 'Pacific Games',\n",
              "       'ABCS Tournament', 'OSN Cup', 'Copa América qualification',\n",
              "       'Intercontinental Cup'], dtype=object)"
            ]
          },
          "metadata": {},
          "execution_count": 122
        }
      ]
    },
    {
      "cell_type": "code",
      "metadata": {
        "id": "D-4I__6Os4C5",
        "colab": {
          "base_uri": "https://localhost:8080/"
        },
        "outputId": "54b5f7d4-e0c8-426b-a9b8-92958aa0ed67"
      },
      "source": [
        "#converting the tournament column to three categories namely Worldcup, friendly and other matches\n",
        "# Converting the tournament columns to: World cup, Friendly and others\n",
        "\n",
        "def TOURNAMENT(GAMES):\n",
        "    if (GAMES == 'FIFA World Cup qualification') or (GAMES == 'FIFA World Cup'):\n",
        "        return 'World_Cup'\n",
        "    if GAMES == 'Friendly':\n",
        "        return 'Friendly'\n",
        "    else:\n",
        "        return 'Other Matches'\n",
        "\n",
        "# applying the function above\n",
        "final_df4 = final_df3\n",
        "final_df4['GAMES'] = final_df3['TOURNAMENT'].apply(lambda w: TOURNAMENT(w))\n",
        "final_df4['GAMES'].unique()"
      ],
      "execution_count": 123,
      "outputs": [
        {
          "output_type": "execute_result",
          "data": {
            "text/plain": [
              "array(['World_Cup', 'Friendly', 'Other Matches'], dtype=object)"
            ]
          },
          "metadata": {},
          "execution_count": 123
        }
      ]
    },
    {
      "cell_type": "code",
      "metadata": {
        "id": "FRd0wyjaxLak",
        "colab": {
          "base_uri": "https://localhost:8080/"
        },
        "outputId": "dde2d50f-0f4f-4f0f-e629-3d7ed95c7307"
      },
      "source": [
        "#creating a copy\n",
        "\n",
        "final_df5 = final_df4\n",
        "\n",
        "#Converting the neutral categorical variable to numerical variable using dummy indicators\n",
        "\n",
        "final_df5['NEUTRAL'] = pd.get_dummies(final_df5['NEUTRAL'], drop_first=True)\n",
        "final_df5.NEUTRAL.unique()"
      ],
      "execution_count": 124,
      "outputs": [
        {
          "output_type": "execute_result",
          "data": {
            "text/plain": [
              "array([0, 1], dtype=uint8)"
            ]
          },
          "metadata": {},
          "execution_count": 124
        }
      ]
    },
    {
      "cell_type": "markdown",
      "metadata": {
        "id": "Tgb8BHl10F_2"
      },
      "source": [
        "# 6. Feature Engineering"
      ]
    },
    {
      "cell_type": "code",
      "metadata": {
        "id": "IQZhOZ2V0LXB",
        "colab": {
          "base_uri": "https://localhost:8080/",
          "height": 393
        },
        "outputId": "9c0e9503-b796-4216-d9f2-0e7625ea8ab1"
      },
      "source": [
        "#creating a copy\n",
        "\n",
        "final_df6 = final_df5\n",
        "\n",
        "#creating a column(final_score) that shows whether the match ended in a win, loss or draw\n",
        "\n",
        "final_df6['FINAL_SCORE'] = final_df6['HOME_SCORE'] - final_df6['AWAY_SCORE']\n",
        "def HOME_TEAM(home_score):\n",
        "    if home_score > 0:\n",
        "        return 'Win'\n",
        "    elif home_score < 0:\n",
        "        return 'Loss'\n",
        "    else:\n",
        "        return 'Draw'\n",
        "      \n",
        "final_df6['OUTCOME'] = final_df6.FINAL_SCORE.apply(lambda h: HOME_TEAM(h))\n",
        "final_df6.head()"
      ],
      "execution_count": 125,
      "outputs": [
        {
          "output_type": "execute_result",
          "data": {
            "text/html": [
              "<div>\n",
              "<style scoped>\n",
              "    .dataframe tbody tr th:only-of-type {\n",
              "        vertical-align: middle;\n",
              "    }\n",
              "\n",
              "    .dataframe tbody tr th {\n",
              "        vertical-align: top;\n",
              "    }\n",
              "\n",
              "    .dataframe thead th {\n",
              "        text-align: right;\n",
              "    }\n",
              "</style>\n",
              "<table border=\"1\" class=\"dataframe\">\n",
              "  <thead>\n",
              "    <tr style=\"text-align: right;\">\n",
              "      <th></th>\n",
              "      <th>HOME_TEAM</th>\n",
              "      <th>AWAY_TEAM</th>\n",
              "      <th>HOME_SCORE</th>\n",
              "      <th>AWAY_SCORE</th>\n",
              "      <th>TOURNAMENT</th>\n",
              "      <th>COUNTRY</th>\n",
              "      <th>NEUTRAL</th>\n",
              "      <th>YEAR</th>\n",
              "      <th>MONTH</th>\n",
              "      <th>HOME_TEAM_RANK</th>\n",
              "      <th>AWAY_TEAM_RANK</th>\n",
              "      <th>GAMES</th>\n",
              "      <th>FINAL_SCORE</th>\n",
              "      <th>OUTCOME</th>\n",
              "    </tr>\n",
              "  </thead>\n",
              "  <tbody>\n",
              "    <tr>\n",
              "      <th>1224</th>\n",
              "      <td>Colombia</td>\n",
              "      <td>Paraguay</td>\n",
              "      <td>0</td>\n",
              "      <td>0</td>\n",
              "      <td>FIFA World Cup qualification</td>\n",
              "      <td>Colombia</td>\n",
              "      <td>0</td>\n",
              "      <td>1993</td>\n",
              "      <td>8</td>\n",
              "      <td>19.0</td>\n",
              "      <td>67.0</td>\n",
              "      <td>World_Cup</td>\n",
              "      <td>0</td>\n",
              "      <td>Draw</td>\n",
              "    </tr>\n",
              "    <tr>\n",
              "      <th>1225</th>\n",
              "      <td>Colombia</td>\n",
              "      <td>Paraguay</td>\n",
              "      <td>0</td>\n",
              "      <td>0</td>\n",
              "      <td>FIFA World Cup qualification</td>\n",
              "      <td>Colombia</td>\n",
              "      <td>0</td>\n",
              "      <td>1993</td>\n",
              "      <td>8</td>\n",
              "      <td>19.0</td>\n",
              "      <td>67.0</td>\n",
              "      <td>World_Cup</td>\n",
              "      <td>0</td>\n",
              "      <td>Draw</td>\n",
              "    </tr>\n",
              "    <tr>\n",
              "      <th>1226</th>\n",
              "      <td>Argentina</td>\n",
              "      <td>Paraguay</td>\n",
              "      <td>0</td>\n",
              "      <td>0</td>\n",
              "      <td>FIFA World Cup qualification</td>\n",
              "      <td>Argentina</td>\n",
              "      <td>0</td>\n",
              "      <td>1993</td>\n",
              "      <td>8</td>\n",
              "      <td>5.0</td>\n",
              "      <td>67.0</td>\n",
              "      <td>World_Cup</td>\n",
              "      <td>0</td>\n",
              "      <td>Draw</td>\n",
              "    </tr>\n",
              "    <tr>\n",
              "      <th>1227</th>\n",
              "      <td>Argentina</td>\n",
              "      <td>Paraguay</td>\n",
              "      <td>0</td>\n",
              "      <td>0</td>\n",
              "      <td>FIFA World Cup qualification</td>\n",
              "      <td>Argentina</td>\n",
              "      <td>0</td>\n",
              "      <td>1993</td>\n",
              "      <td>8</td>\n",
              "      <td>5.0</td>\n",
              "      <td>67.0</td>\n",
              "      <td>World_Cup</td>\n",
              "      <td>0</td>\n",
              "      <td>Draw</td>\n",
              "    </tr>\n",
              "    <tr>\n",
              "      <th>1228</th>\n",
              "      <td>Peru</td>\n",
              "      <td>Argentina</td>\n",
              "      <td>0</td>\n",
              "      <td>1</td>\n",
              "      <td>FIFA World Cup qualification</td>\n",
              "      <td>Peru</td>\n",
              "      <td>0</td>\n",
              "      <td>1993</td>\n",
              "      <td>8</td>\n",
              "      <td>70.0</td>\n",
              "      <td>5.0</td>\n",
              "      <td>World_Cup</td>\n",
              "      <td>-1</td>\n",
              "      <td>Loss</td>\n",
              "    </tr>\n",
              "  </tbody>\n",
              "</table>\n",
              "</div>"
            ],
            "text/plain": [
              "      HOME_TEAM  AWAY_TEAM  HOME_SCORE  ...      GAMES FINAL_SCORE OUTCOME\n",
              "1224   Colombia   Paraguay           0  ...  World_Cup           0    Draw\n",
              "1225   Colombia   Paraguay           0  ...  World_Cup           0    Draw\n",
              "1226  Argentina   Paraguay           0  ...  World_Cup           0    Draw\n",
              "1227  Argentina   Paraguay           0  ...  World_Cup           0    Draw\n",
              "1228       Peru  Argentina           0  ...  World_Cup          -1    Loss\n",
              "\n",
              "[5 rows x 14 columns]"
            ]
          },
          "metadata": {},
          "execution_count": 125
        }
      ]
    },
    {
      "cell_type": "code",
      "metadata": {
        "id": "1vrbmzFkvrSj",
        "colab": {
          "base_uri": "https://localhost:8080/"
        },
        "outputId": "cf8eaf25-7db0-42b6-9394-ec4d85150497"
      },
      "source": [
        "final_df6['OUTCOME'].unique()"
      ],
      "execution_count": 126,
      "outputs": [
        {
          "output_type": "execute_result",
          "data": {
            "text/plain": [
              "array(['Draw', 'Loss', 'Win'], dtype=object)"
            ]
          },
          "metadata": {},
          "execution_count": 126
        }
      ]
    },
    {
      "cell_type": "code",
      "metadata": {
        "id": "QyVenCjav1xH",
        "colab": {
          "base_uri": "https://localhost:8080/",
          "height": 302
        },
        "outputId": "3fd2a6c0-2a89-44dc-cd74-698c4715ac70"
      },
      "source": [
        "# visualizing the win draw and lose on a bar plot\n",
        "\n",
        "sns.countplot('OUTCOME',data = final_df6)\n",
        "plt.xlabel(\"OUTCOME\",fontsize=15)\n",
        "plt.ylabel(\"COUNT\",fontsize=15)\n",
        "plt.title(\"Countplot of OUTCOME\",fontsize=16,color=\"red\")\n",
        "plt.show()\n",
        "\n",
        "#generally, there is a high probability to win a match than lose or draw"
      ],
      "execution_count": 127,
      "outputs": [
        {
          "output_type": "display_data",
          "data": {
            "image/png": "[encoded data removed]",
            "text/plain": [
              "<Figure size 432x288 with 1 Axes>"
            ]
          },
          "metadata": {
            "needs_background": "light"
          }
        }
      ]
    },
    {
      "cell_type": "code",
      "metadata": {
        "id": "D2i2_3Mc4UXZ",
        "colab": {
          "base_uri": "https://localhost:8080/",
          "height": 223
        },
        "outputId": "7dab6821-c6fc-4b98-86b0-48b38f29a13f"
      },
      "source": [
        "#dropping the tournament column\n",
        "\n",
        "final_df7 = final_df6\n",
        "final_df7.drop(columns=['TOURNAMENT'], inplace=True)\n",
        "final_df7.head()"
      ],
      "execution_count": 128,
      "outputs": [
        {
          "output_type": "execute_result",
          "data": {
            "text/html": [
              "<div>\n",
              "<style scoped>\n",
              "    .dataframe tbody tr th:only-of-type {\n",
              "        vertical-align: middle;\n",
              "    }\n",
              "\n",
              "    .dataframe tbody tr th {\n",
              "        vertical-align: top;\n",
              "    }\n",
              "\n",
              "    .dataframe thead th {\n",
              "        text-align: right;\n",
              "    }\n",
              "</style>\n",
              "<table border=\"1\" class=\"dataframe\">\n",
              "  <thead>\n",
              "    <tr style=\"text-align: right;\">\n",
              "      <th></th>\n",
              "      <th>HOME_TEAM</th>\n",
              "      <th>AWAY_TEAM</th>\n",
              "      <th>HOME_SCORE</th>\n",
              "      <th>AWAY_SCORE</th>\n",
              "      <th>COUNTRY</th>\n",
              "      <th>NEUTRAL</th>\n",
              "      <th>YEAR</th>\n",
              "      <th>MONTH</th>\n",
              "      <th>HOME_TEAM_RANK</th>\n",
              "      <th>AWAY_TEAM_RANK</th>\n",
              "      <th>GAMES</th>\n",
              "      <th>FINAL_SCORE</th>\n",
              "      <th>OUTCOME</th>\n",
              "    </tr>\n",
              "  </thead>\n",
              "  <tbody>\n",
              "    <tr>\n",
              "      <th>1224</th>\n",
              "      <td>Colombia</td>\n",
              "      <td>Paraguay</td>\n",
              "      <td>0</td>\n",
              "      <td>0</td>\n",
              "      <td>Colombia</td>\n",
              "      <td>0</td>\n",
              "      <td>1993</td>\n",
              "      <td>8</td>\n",
              "      <td>19.0</td>\n",
              "      <td>67.0</td>\n",
              "      <td>World_Cup</td>\n",
              "      <td>0</td>\n",
              "      <td>Draw</td>\n",
              "    </tr>\n",
              "    <tr>\n",
              "      <th>1225</th>\n",
              "      <td>Colombia</td>\n",
              "      <td>Paraguay</td>\n",
              "      <td>0</td>\n",
              "      <td>0</td>\n",
              "      <td>Colombia</td>\n",
              "      <td>0</td>\n",
              "      <td>1993</td>\n",
              "      <td>8</td>\n",
              "      <td>19.0</td>\n",
              "      <td>67.0</td>\n",
              "      <td>World_Cup</td>\n",
              "      <td>0</td>\n",
              "      <td>Draw</td>\n",
              "    </tr>\n",
              "    <tr>\n",
              "      <th>1226</th>\n",
              "      <td>Argentina</td>\n",
              "      <td>Paraguay</td>\n",
              "      <td>0</td>\n",
              "      <td>0</td>\n",
              "      <td>Argentina</td>\n",
              "      <td>0</td>\n",
              "      <td>1993</td>\n",
              "      <td>8</td>\n",
              "      <td>5.0</td>\n",
              "      <td>67.0</td>\n",
              "      <td>World_Cup</td>\n",
              "      <td>0</td>\n",
              "      <td>Draw</td>\n",
              "    </tr>\n",
              "    <tr>\n",
              "      <th>1227</th>\n",
              "      <td>Argentina</td>\n",
              "      <td>Paraguay</td>\n",
              "      <td>0</td>\n",
              "      <td>0</td>\n",
              "      <td>Argentina</td>\n",
              "      <td>0</td>\n",
              "      <td>1993</td>\n",
              "      <td>8</td>\n",
              "      <td>5.0</td>\n",
              "      <td>67.0</td>\n",
              "      <td>World_Cup</td>\n",
              "      <td>0</td>\n",
              "      <td>Draw</td>\n",
              "    </tr>\n",
              "    <tr>\n",
              "      <th>1228</th>\n",
              "      <td>Peru</td>\n",
              "      <td>Argentina</td>\n",
              "      <td>0</td>\n",
              "      <td>1</td>\n",
              "      <td>Peru</td>\n",
              "      <td>0</td>\n",
              "      <td>1993</td>\n",
              "      <td>8</td>\n",
              "      <td>70.0</td>\n",
              "      <td>5.0</td>\n",
              "      <td>World_Cup</td>\n",
              "      <td>-1</td>\n",
              "      <td>Loss</td>\n",
              "    </tr>\n",
              "  </tbody>\n",
              "</table>\n",
              "</div>"
            ],
            "text/plain": [
              "      HOME_TEAM  AWAY_TEAM  HOME_SCORE  ...      GAMES FINAL_SCORE  OUTCOME\n",
              "1224   Colombia   Paraguay           0  ...  World_Cup           0     Draw\n",
              "1225   Colombia   Paraguay           0  ...  World_Cup           0     Draw\n",
              "1226  Argentina   Paraguay           0  ...  World_Cup           0     Draw\n",
              "1227  Argentina   Paraguay           0  ...  World_Cup           0     Draw\n",
              "1228       Peru  Argentina           0  ...  World_Cup          -1     Loss\n",
              "\n",
              "[5 rows x 13 columns]"
            ]
          },
          "metadata": {},
          "execution_count": 128
        }
      ]
    },
    {
      "cell_type": "markdown",
      "metadata": {
        "id": "rF2ABPsHUtbZ"
      },
      "source": [
        "## Exploratory Analysis"
      ]
    },
    {
      "cell_type": "code",
      "metadata": {
        "id": "5nnRToniXGDK",
        "colab": {
          "base_uri": "https://localhost:8080/",
          "height": 266
        },
        "outputId": "c7388841-c121-494f-8299-2505d0f015ef"
      },
      "source": [
        "# Ploting the univariate summaries and recording our observations\n",
        "# Checking for outliers in the Home_score and Away_score column\n",
        "\n",
        "boxplot = final_df7.boxplot(column=['HOME_SCORE','AWAY_SCORE'])\n",
        "\n",
        "# From the boxplots,both the home score and away score columns have outliers.\n",
        "# The outliers will not be dropped, since they are importamt and did not happen by chance"
      ],
      "execution_count": 129,
      "outputs": [
        {
          "output_type": "display_data",
          "data": {
            "image/png": "[encoded data removed]",
            "text/plain": [
              "<Figure size 432x288 with 1 Axes>"
            ]
          },
          "metadata": {
            "needs_background": "light"
          }
        }
      ]
    },
    {
      "cell_type": "markdown",
      "metadata": {
        "id": "vTbdjSrhVIiT"
      },
      "source": [
        "# 7. Implementing the Solution"
      ]
    },
    {
      "cell_type": "markdown",
      "metadata": {
        "id": "E-lll10KgoGw"
      },
      "source": [
        "## Checking for Multi-collinearity"
      ]
    },
    {
      "cell_type": "code",
      "metadata": {
        "id": "X2hz5CvSg2Rd",
        "colab": {
          "base_uri": "https://localhost:8080/",
          "height": 173
        },
        "outputId": "b82e9fd8-825c-48cf-b2fe-c0bdfd83a04d"
      },
      "source": [
        "# displaying the correlations between the variables\n",
        "\n",
        "corr = final_df7[['HOME_SCORE','AWAY_SCORE','HOME_TEAM_RANK','AWAY_TEAM_RANK'\t]].corr()\n",
        "corr"
      ],
      "execution_count": 130,
      "outputs": [
        {
          "output_type": "execute_result",
          "data": {
            "text/html": [
              "<div>\n",
              "<style scoped>\n",
              "    .dataframe tbody tr th:only-of-type {\n",
              "        vertical-align: middle;\n",
              "    }\n",
              "\n",
              "    .dataframe tbody tr th {\n",
              "        vertical-align: top;\n",
              "    }\n",
              "\n",
              "    .dataframe thead th {\n",
              "        text-align: right;\n",
              "    }\n",
              "</style>\n",
              "<table border=\"1\" class=\"dataframe\">\n",
              "  <thead>\n",
              "    <tr style=\"text-align: right;\">\n",
              "      <th></th>\n",
              "      <th>HOME_SCORE</th>\n",
              "      <th>AWAY_SCORE</th>\n",
              "      <th>HOME_TEAM_RANK</th>\n",
              "      <th>AWAY_TEAM_RANK</th>\n",
              "    </tr>\n",
              "  </thead>\n",
              "  <tbody>\n",
              "    <tr>\n",
              "      <th>HOME_SCORE</th>\n",
              "      <td>1.000000</td>\n",
              "      <td>-0.161033</td>\n",
              "      <td>-0.114510</td>\n",
              "      <td>0.307728</td>\n",
              "    </tr>\n",
              "    <tr>\n",
              "      <th>AWAY_SCORE</th>\n",
              "      <td>-0.161033</td>\n",
              "      <td>1.000000</td>\n",
              "      <td>0.221365</td>\n",
              "      <td>-0.151487</td>\n",
              "    </tr>\n",
              "    <tr>\n",
              "      <th>HOME_TEAM_RANK</th>\n",
              "      <td>-0.114510</td>\n",
              "      <td>0.221365</td>\n",
              "      <td>1.000000</td>\n",
              "      <td>0.515308</td>\n",
              "    </tr>\n",
              "    <tr>\n",
              "      <th>AWAY_TEAM_RANK</th>\n",
              "      <td>0.307728</td>\n",
              "      <td>-0.151487</td>\n",
              "      <td>0.515308</td>\n",
              "      <td>1.000000</td>\n",
              "    </tr>\n",
              "  </tbody>\n",
              "</table>\n",
              "</div>"
            ],
            "text/plain": [
              "                HOME_SCORE  AWAY_SCORE  HOME_TEAM_RANK  AWAY_TEAM_RANK\n",
              "HOME_SCORE        1.000000   -0.161033       -0.114510        0.307728\n",
              "AWAY_SCORE       -0.161033    1.000000        0.221365       -0.151487\n",
              "HOME_TEAM_RANK   -0.114510    0.221365        1.000000        0.515308\n",
              "AWAY_TEAM_RANK    0.307728   -0.151487        0.515308        1.000000"
            ]
          },
          "metadata": {},
          "execution_count": 130
        }
      ]
    },
    {
      "cell_type": "markdown",
      "metadata": {
        "id": "_X_HafXPhWEg"
      },
      "source": [
        " The table above shows us how each variable relates to another. The coefficient of 1 across the diagonal makes sense, as a variable is perfectly correlated to itself. Let's use these correlations to compute the VIF(Variance Inflation Factor) score for each variable.We create a new dataframe with the inverse of the matrix above.\n",
        "\n"
      ]
    },
    {
      "cell_type": "code",
      "metadata": {
        "id": "SDIJl0ariwws",
        "colab": {
          "base_uri": "https://localhost:8080/",
          "height": 351
        },
        "outputId": "4f643bb0-608e-43d9-eff3-c086794a8a1c"
      },
      "source": [
        "#computing the VIF(which is the inverse of the correlation matrix)\n",
        "\n",
        "VIF_df = pd.DataFrame(np.linalg.inv(corr.values), index = corr.index, columns = corr.columns)\n",
        "sns.heatmap(VIF_df, annot = True)\n",
        "plt.show()"
      ],
      "execution_count": 131,
      "outputs": [
        {
          "output_type": "display_data",
          "data": {
            "image/png": "[encoded data removed]",
            "text/plain": [
              "<Figure size 432x288 with 2 Axes>"
            ]
          },
          "metadata": {
            "needs_background": "light"
          }
        }
      ]
    },
    {
      "cell_type": "markdown",
      "metadata": {
        "id": "seXw2jQUlp1J"
      },
      "source": [
        "##### The heat map above shows VIF values that are very close to 0 meaning that there is very little multi-collinearity."
      ]
    },
    {
      "cell_type": "markdown",
      "metadata": {
        "id": "e52EgySvmuM9"
      },
      "source": [
        "# 8. Regression\n"
      ]
    },
    {
      "cell_type": "markdown",
      "metadata": {
        "id": "vOuLo5z-m5O4"
      },
      "source": [
        "## 1st Approach: Polynomial Regression"
      ]
    },
    {
      "cell_type": "markdown",
      "metadata": {
        "id": "vDM4lfLMpDm7"
      },
      "source": [
        "### Model 1: Predicting the Home_score"
      ]
    },
    {
      "cell_type": "code",
      "metadata": {
        "id": "IHQOLs1Nh2bx",
        "colab": {
          "base_uri": "https://localhost:8080/"
        },
        "outputId": "1ee5e615-a7c0-4d92-d20c-10cc18c3427c"
      },
      "source": [
        "#Using the necessary libraries imported before:\n",
        "# from sklearn import metrics\n",
        "# from sklearn.model_selection import train_test_split\n",
        "# from sklearn.linear_model import LinearRegression\n",
        "\n",
        "#defining X and y using the column locations\n",
        "\n",
        "X = final_df7.iloc[:, [0,1,3,8,9,10,11,12]]\n",
        "y = final_df7['HOME_SCORE'].values\n",
        "\n",
        "X = pd.get_dummies(X, drop_first=True)\n",
        "\n",
        "X_train, X_test, y_train, y_test = train_test_split(X, y, test_size=0.2, random_state=0)\n",
        "\n",
        "regressor = LinearRegression()\n",
        "regressor.fit(X_train, y_train)\n",
        "\n",
        "# This is our prediction for admission based on our model\n",
        "\n",
        "y_pred = regressor.predict(X_test)\n",
        "\n",
        "# We now create the residual by substracting the test value from the predicted value for each row in our dataset\n",
        "\n",
        "residuals = np.subtract(y_pred, y_test)\n",
        "\n",
        "from sklearn.metrics import mean_squared_error, f1_score, accuracy_score, confusion_matrix\n",
        "\n",
        "# Let's describe our residual:\n",
        "\n",
        "pd.DataFrame(residuals).describe()\n",
        "print(\"The RMSE score for the model : \", np.sqrt(mean_squared_error(y_test, y_pred)))\n",
        "print(\"The residual mean score for the model : \", residuals.mean())\n"
      ],
      "execution_count": 132,
      "outputs": [
        {
          "output_type": "stream",
          "name": "stdout",
          "text": [
            "The RMSE score for the model :  1.7217466298951077e-14\n",
            "The residual mean score for the model :  6.548298300966204e-16\n"
          ]
        }
      ]
    },
    {
      "cell_type": "markdown",
      "metadata": {
        "id": "753yYs20vsV2"
      },
      "source": [
        "The RMSE score for the model is too small hence high predictive capability"
      ]
    },
    {
      "cell_type": "markdown",
      "metadata": {
        "id": "N6XsbB9hvg_D"
      },
      "source": [
        "## Checking for Heteroskedasticity using Barlette's Test"
      ]
    },
    {
      "cell_type": "code",
      "metadata": {
        "id": "5k2LODKlwV8w",
        "colab": {
          "base_uri": "https://localhost:8080/",
          "height": 295
        },
        "outputId": "45cd7133-81f3-4c75-c85e-c4d9c0b52c50"
      },
      "source": [
        "residuals = y_pred - y_test\n",
        "\n",
        "# Plotting the prediction errors\n",
        "\n",
        "plt.scatter(y_pred, residuals, color='blue')\n",
        "plt.title('Residual Plot')\n",
        "plt.ylabel('residual')\n",
        "plt.xlabel('fitted values')\n",
        "plt.axhline(y= residuals.mean(), color='orange')\n",
        "plt.show()"
      ],
      "execution_count": 133,
      "outputs": [
        {
          "output_type": "display_data",
          "data": {
            "image/png": "[encoded data removed]",
            "text/plain": [
              "<Figure size 432x288 with 1 Axes>"
            ]
          },
          "metadata": {
            "needs_background": "light"
          }
        }
      ]
    },
    {
      "cell_type": "markdown",
      "metadata": {
        "id": "Ee0y5T7Ewrsm"
      },
      "source": [
        "## Model 2: Predicting the Away_Score"
      ]
    },
    {
      "cell_type": "code",
      "metadata": {
        "id": "9UXjXsr4xBa7",
        "colab": {
          "base_uri": "https://localhost:8080/"
        },
        "outputId": "35572211-32c7-4d3b-bf75-4055a571cbc8"
      },
      "source": [
        "# using the libraries imported above:\n",
        "# from sklearn import metrics\n",
        "# from sklearn.model_selection import train_test_split\n",
        "# from sklearn.linear_model import LinearRegression\n",
        "\n",
        "X = final_df7.iloc[:, [0,1,2,8,9,10,11,12]]\n",
        "y = final_df7['AWAY_SCORE'].values\n",
        "\n",
        "X = pd.get_dummies(X, drop_first=True)\n",
        "\n",
        "X_train, X_test, y_train, y_test = train_test_split(X, y, test_size=0.2, random_state=0)\n",
        "\n",
        "regressor = LinearRegression()\n",
        "regressor.fit(X_train, y_train)\n",
        "\n",
        "# This is our prediction for admission based on our model\n",
        "\n",
        "y_pred = regressor.predict(X_test)\n",
        "\n",
        "# We now create the residual by substracting the test value from the predicted value for each row in our dataset\n",
        "\n",
        "residuals = np.subtract(y_pred, y_test)\n",
        "\n",
        "# from sklearn.metrics import mean_squared_error, f1_score, accuracy_score, confusion_matrix\n",
        "# Let's describe our residual:\n",
        "\n",
        "pd.DataFrame(residuals).describe()\n",
        "print(\"The RMSE score for the model : \", np.sqrt(mean_squared_error(y_test, y_pred)))\n",
        "print(\"The residual mean score for the model : \", residuals.mean())\n"
      ],
      "execution_count": 134,
      "outputs": [
        {
          "output_type": "stream",
          "name": "stdout",
          "text": [
            "The RMSE score for the model :  7.277714058711504e-15\n",
            "The residual mean score for the model :  1.9082835051847803e-16\n"
          ]
        }
      ]
    },
    {
      "cell_type": "markdown",
      "metadata": {
        "id": "syMeMn8Mxonz"
      },
      "source": [
        "The RMSE score for the model is quite low hence high predictive capability"
      ]
    },
    {
      "cell_type": "code",
      "metadata": {
        "id": "jxBl8M-cxMus",
        "colab": {
          "base_uri": "https://localhost:8080/",
          "height": 295
        },
        "outputId": "5803fc7e-5ff6-4cd3-c107-725e67ea381a"
      },
      "source": [
        "residuals = y_pred - y_test\n",
        "\n",
        "# Plotting the prediction errors\n",
        "\n",
        "plt.scatter(y_pred, residuals, color='blue')\n",
        "plt.title('Residual Plot')\n",
        "plt.ylabel('residual')\n",
        "plt.xlabel('fitted values')\n",
        "plt.axhline(y= residuals.mean(), color='red')\n",
        "plt.show()"
      ],
      "execution_count": 135,
      "outputs": [
        {
          "output_type": "display_data",
          "data": {
            "image/png": "[encoded data removed]",
            "text/plain": [
              "<Figure size 432x288 with 1 Axes>"
            ]
          },
          "metadata": {
            "needs_background": "light"
          }
        }
      ]
    },
    {
      "cell_type": "markdown",
      "metadata": {
        "id": "lQ2G4ZPDVOXE"
      },
      "source": [
        "## 2nd Approach: Logistic Regression"
      ]
    },
    {
      "cell_type": "code",
      "metadata": {
        "id": "wrPnl0YPyOV0",
        "colab": {
          "base_uri": "https://localhost:8080/"
        },
        "outputId": "70b1b086-8c94-4b19-b22f-09dd590e52fc"
      },
      "source": [
        "# Testing my model with several classiffiers to see the better classifier\n",
        "# x_train, x_test, y_train, y_test = train_test_split(X, y, test_size=0.2, random_state=0)\n",
        "\n",
        "# Several list of classifiers\n",
        "\n",
        "classifier = []\n",
        "classifier.append(('Logistic Regression ', LogisticRegression(solver='liblinear', multi_class='ovr')))\n",
        "classifier.append(('Random Forest ', RandomForestClassifier()))\n",
        "classifier.append(('GussianNB ', GaussianNB()))\n",
        "\n",
        "#classifier.append(('SVM ', SVC(gamma='auto')))\n",
        "\n",
        "res = []\n",
        "names = []\n",
        "\n",
        "# Implementing cross validation\n",
        "\n",
        "for name, model in classifier:\n",
        "   kfold = KFold(n_splits=5, random_state=0)\n",
        "   cv_results = cross_val_score(model, X_train, y_train, cv=kfold, scoring='accuracy')\n",
        "   res.append(cv_results)\n",
        "   names.append(name)\n",
        "   msg = \"%s: %f (%f)\" % (name, cv_results.mean(), cv_results.std())\n",
        "   print(msg)\n",
        "    \n",
        "# We can see that logistic reggresion has the highest accuracy.\n",
        "# thus we use it for classification modelling"
      ],
      "execution_count": 88,
      "outputs": [
        {
          "output_type": "stream",
          "name": "stdout",
          "text": [
            "Logistic Regression : 0.784361 (0.004137)\n",
            "Random Forest : 0.977539 (0.001963)\n",
            "GussianNB : 0.141049 (0.006969)\n"
          ]
        }
      ]
    },
    {
      "cell_type": "code",
      "metadata": {
        "id": "AsHuwl404ymP",
        "colab": {
          "base_uri": "https://localhost:8080/"
        },
        "outputId": "8bbec943-2ad5-4c45-c648-52d602530ad9"
      },
      "source": [
        "# Using critical value to find the heteroskedasticity\n",
        "\n",
        "import scipy as sp\n",
        "\n",
        "test_result, p_value = sp.stats.bartlett(y_pred, residuals)\n",
        "\n",
        "# To interpret the results we must also compute a critical value of the chi squared distribution\n",
        "\n",
        "degree_of_freedom = len(y_pred)-1\n",
        "probability = 1 - p_value\n",
        "critical_value = sp.stats.chi2.ppf(probability, degree_of_freedom)\n",
        "print(critical_value)\n",
        "\n",
        "# comparing the critical value and the test result\n",
        "\n",
        "if (test_result > critical_value):\n",
        " print('the variances are unequal, and the model should be reassessed')\n",
        "else:\n",
        " print('the variances are homogeneous!')"
      ],
      "execution_count": 89,
      "outputs": [
        {
          "output_type": "stream",
          "name": "stdout",
          "text": [
            "inf\n",
            "the variances are homogeneous!\n"
          ]
        }
      ]
    },
    {
      "cell_type": "markdown",
      "metadata": {
        "id": "CHDIoZSA5Vmt"
      },
      "source": [
        "There are no patterns to explain the variances in the data.\n",
        "The features are independent."
      ]
    },
    {
      "cell_type": "markdown",
      "metadata": {
        "id": "xrmHVMVsVS--"
      },
      "source": [
        "## Follow up questions"
      ]
    },
    {
      "cell_type": "markdown",
      "metadata": {
        "id": "HPQviDmNtta8"
      },
      "source": [
        "### a). Did we have the right data?\n",
        "NO!"
      ]
    },
    {
      "cell_type": "markdown",
      "metadata": {
        "id": "qjFHK1CKty7o"
      },
      "source": [
        "### b). Do we need other data to answer our question?\n",
        "YES! More conclusive features should be included."
      ]
    },
    {
      "cell_type": "markdown",
      "metadata": {
        "id": "HSsicSdvt4Zs"
      },
      "source": [
        "### c). Did we have the right question?\n",
        "\n",
        "YES!\n",
        "Football is a greatly loved sport and predicting the outcome of a match based on previous outcomes is an interesting challenge."
      ]
    },
    {
      "cell_type": "markdown",
      "metadata": {
        "id": "jgmcgjwS1Jf9"
      },
      "source": [
        "# 9. Conclusion"
      ]
    },
    {
      "cell_type": "markdown",
      "metadata": {
        "id": "BpN5mrFml6FW"
      },
      "source": [
        "Polynomial Regression and Logistic Regression did yield an accurate model to predict the FIFA outcomes since there RMSE scores were quite low hence high predictive capability."
      ]
    }
  ]
}